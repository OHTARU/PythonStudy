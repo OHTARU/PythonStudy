{
 "cells": [
  {
   "cell_type": "code",
   "execution_count": 1,
   "metadata": {},
   "outputs": [
    {
     "name": "stdout",
     "output_type": "stream",
     "text": [
      "10\n"
     ]
    },
    {
     "ename": "ValueError",
     "evalue": "not enough values to unpack (expected 2, got 0)",
     "output_type": "error",
     "traceback": [
      "\u001b[1;31m---------------------------------------------------------------------------\u001b[0m",
      "\u001b[1;31mValueError\u001b[0m                                Traceback (most recent call last)",
      "Cell \u001b[1;32mIn[1], line 6\u001b[0m\n\u001b[0;32m      1\u001b[0m \u001b[39m# A 와 B 에 정수를 입력하고 두 수 모두 0을 입력하면 종료 \u001b[39;00m\n\u001b[0;32m      2\u001b[0m \u001b[39m# 0이 아니면 무한으로 반복할 수 있게 하시오\u001b[39;00m\n\u001b[0;32m      3\u001b[0m \u001b[39m# map 과 split 사용하기\u001b[39;00m\n\u001b[0;32m      5\u001b[0m \u001b[39mwhile\u001b[39;00m(\u001b[39m1\u001b[39m):\n\u001b[1;32m----> 6\u001b[0m     a , b \u001b[39m=\u001b[39m \u001b[39mmap\u001b[39m(\u001b[39mint\u001b[39m, \u001b[39minput\u001b[39m()\u001b[39m.\u001b[39msplit())\n\u001b[0;32m      7\u001b[0m     \u001b[39mif\u001b[39;00m a \u001b[39m==\u001b[39m \u001b[39m0\u001b[39m \u001b[39mand\u001b[39;00m b \u001b[39m==\u001b[39m \u001b[39m0\u001b[39m:\n\u001b[0;32m      8\u001b[0m         \u001b[39mbreak\u001b[39;00m;\n",
      "\u001b[1;31mValueError\u001b[0m: not enough values to unpack (expected 2, got 0)"
     ]
    }
   ],
   "source": [
    "# A 와 B 에 정수를 입력하고 두 수 모두 0을 입력하면 종료 \n",
    "# 0이 아니면 무한으로 반복할 수 있게 하시오\n",
    "# map 과 split 사용하기\n",
    "\n",
    "while(1):\n",
    "    a , b = (input().split())\n",
    "    a , b = int(a),int(b)\n",
    "    # a , b = map(int, input().split())\n",
    "    if a == 0 and b == 0:\n",
    "        break;\n",
    "    else:\n",
    "        print(a+b)\n",
    "\n",
    "\n"
   ]
  },
  {
   "cell_type": "markdown",
   "metadata": {},
   "source": [
    "https://codinglevelup.tistory.com/83"
   ]
  }
 ],
 "metadata": {
  "kernelspec": {
   "display_name": "Python 3",
   "language": "python",
   "name": "python3"
  },
  "language_info": {
   "codemirror_mode": {
    "name": "ipython",
    "version": 3
   },
   "file_extension": ".py",
   "mimetype": "text/x-python",
   "name": "python",
   "nbconvert_exporter": "python",
   "pygments_lexer": "ipython3",
   "version": "3.11.5"
  },
  "orig_nbformat": 4
 },
 "nbformat": 4,
 "nbformat_minor": 2
}
