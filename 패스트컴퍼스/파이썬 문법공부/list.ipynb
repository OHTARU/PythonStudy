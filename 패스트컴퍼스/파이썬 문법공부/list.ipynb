{
 "cells": [
  {
   "cell_type": "code",
   "execution_count": 4,
   "metadata": {},
   "outputs": [
    {
     "name": "stdout",
     "output_type": "stream",
     "text": [
      "[33, 40, 12, 63, 52, 9]\n",
      "[33, 50, 12, 63, 52, 9]\n",
      "[12, 63, 52, 9]\n",
      "[33, 50, 12, 63, 52, 9]\n"
     ]
    }
   ],
   "source": [
    "result = [33,40,12,63,52]\n",
    "\n",
    "\n",
    "result.append(9)\n",
    "print(result)\n",
    "\n",
    "result[1] = 50\n",
    "print(result)\n",
    "\n",
    "print(result[2:6])\n",
    "\n",
    "result.sort\n",
    "print(result)\n",
    "\n"
   ]
  },
  {
   "cell_type": "code",
   "execution_count": 9,
   "metadata": {},
   "outputs": [
    {
     "name": "stdout",
     "output_type": "stream",
     "text": [
      "12\n"
     ]
    }
   ],
   "source": [
    "result = []\n",
    "total = 0\n",
    "\n",
    "for i in range(7):\n",
    "    result = int(input(\"{}일차 턱걸이 횟수 >>>\".format(i+1)))\n",
    "    total += result\n",
    "\n",
    "print(int(total/7))\n",
    "\n"
   ]
  }
 ],
 "metadata": {
  "kernelspec": {
   "display_name": "Python 3",
   "language": "python",
   "name": "python3"
  },
  "language_info": {
   "codemirror_mode": {
    "name": "ipython",
    "version": 3
   },
   "file_extension": ".py",
   "mimetype": "text/x-python",
   "name": "python",
   "nbconvert_exporter": "python",
   "pygments_lexer": "ipython3",
   "version": "3.11.5"
  }
 },
 "nbformat": 4,
 "nbformat_minor": 2
}
