{
 "cells": [
  {
   "cell_type": "code",
   "execution_count": 4,
   "metadata": {},
   "outputs": [
    {
     "name": "stdout",
     "output_type": "stream",
     "text": [
      "9\n",
      "5\n",
      "35\n",
      "1\n"
     ]
    }
   ],
   "source": [
    "a = (3,4,5)\n",
    "b = 3,4,5\n",
    "\n",
    "c = (3,)\n",
    "d = 3,\n",
    "\n",
    "e = tuple([3,4,5])\n",
    "f = list(range(10))\n",
    "g = tuple(f)\n",
    "\n",
    "h = 3,4,5\n",
    "i = list(h)\n",
    "\n",
    "x = 5,6,7,8,9\n",
    "\n",
    "print(max(x))\n",
    "print(min(x))\n",
    "print(sum(x))\n",
    "print(x.count(6))"
   ]
  }
 ],
 "metadata": {
  "kernelspec": {
   "display_name": "Python 3",
   "language": "python",
   "name": "python3"
  },
  "language_info": {
   "codemirror_mode": {
    "name": "ipython",
    "version": 3
   },
   "file_extension": ".py",
   "mimetype": "text/x-python",
   "name": "python",
   "nbconvert_exporter": "python",
   "pygments_lexer": "ipython3",
   "version": "3.12.0"
  }
 },
 "nbformat": 4,
 "nbformat_minor": 2
}
