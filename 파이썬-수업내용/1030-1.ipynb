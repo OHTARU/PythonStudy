{
 "cells": [
  {
   "cell_type": "code",
   "execution_count": 31,
   "metadata": {},
   "outputs": [],
   "source": [
    "def product_set(set1,set2):\n",
    "    res = set()\n",
    "    for i in set1:\n",
    "        for j in set2:\n",
    "            res = res | {(i,j)}\n",
    "    return res"
   ]
  },
  {
   "cell_type": "code",
   "execution_count": 2,
   "metadata": {},
   "outputs": [],
   "source": [
    "def tuple_sum(tup):\n",
    "    if isinstance(tup,int):\n",
    "        return tup\n",
    "    else:\n",
    "        accum = 0\n",
    "        for element in tup:\n",
    "            accum += tuple_sum(element)\n",
    "        return accum"
   ]
  },
  {
   "cell_type": "code",
   "execution_count": 5,
   "metadata": {},
   "outputs": [
    {
     "name": "stdout",
     "output_type": "stream",
     "text": [
      "[11, 16, 13, 8, 12, 7, 9, 9, 11, 7, 13, 8, 11, 15, 9, 12, 16, 15, 13, 9, 9, 9, 13, 5, 12, 11, 15, 7, 10, 5, 12, 9, 13, 14, 9, 9, 16, 11, 13, 8, 10, 6, 12, 7, 14, 11, 8, 5, 11, 9, 10, 8, 14, 13, 9, 10, 5, 7, 12, 11, 13, 9, 5, 11, 11, 8, 8, 14, 11, 8, 14, 7, 11, 12, 8, 13, 17, 5, 10, 14, 9, 10, 12, 10, 9, 6, 8, 13, 10, 7, 11, 12, 7, 8, 14, 16, 14, 12, 8, 12, 14, 9, 12, 10, 6, 10, 14, 10, 13, 8, 13, 15, 10, 10, 12, 12, 8, 6, 12, 10, 15, 12, 9, 7, 13, 8, 14, 10, 12, 13, 9, 10, 4, 6, 7, 17, 12, 11, 10, 12, 11, 13, 9, 15, 10, 11, 6, 8, 13, 12, 10, 8, 11, 6, 17, 14, 11, 10, 15, 12, 9, 4, 11, 6, 10, 8, 11, 8, 7, 13, 12, 10, 10, 16, 11, 6, 13, 10, 7, 14, 14, 15, 8, 11, 12, 11, 8, 9, 11, 15, 10, 10, 13, 7, 9, 7, 12, 4, 9, 11, 3, 9, 14, 15, 11, 9, 7, 6, 9, 13, 13, 12, 18, 10, 16, 11]\n",
      "{3, 4, 5, 6, 7, 8, 9, 10, 11, 12, 13, 14, 15, 16, 17, 18}\n"
     ]
    }
   ],
   "source": [
    "cases = {1,2,3,4,5,6}\n",
    "cases_2times = product_set(cases,cases)\n",
    "cases_3times = product_set(cases,cases_2times)\n",
    "\n",
    "sums = [tuple_sum(tup) for tup in cases_3times]\n",
    "\n",
    "# sum =[]\n",
    "# for tup in cases_3times:\n",
    "#     sum.append(tuple_sum(tup))\n",
    "\n",
    "print(sums)\n",
    "\n",
    "sums = set(sums)\n",
    "print(sums)"
   ]
  },
  {
   "cell_type": "code",
   "execution_count": 39,
   "metadata": {},
   "outputs": [
    {
     "ename": "TypeError",
     "evalue": "object of type 'NoneType' has no len()",
     "output_type": "error",
     "traceback": [
      "\u001b[1;31m---------------------------------------------------------------------------\u001b[0m",
      "\u001b[1;31mTypeError\u001b[0m                                 Traceback (most recent call last)",
      "\u001b[1;32mc:\\Users\\한국IT\\Desktop\\python-study\\파이썬-수업내용\\1030-1.ipynb 셀 4\u001b[0m line \u001b[0;36m1\n\u001b[0;32m      <a href='vscode-notebook-cell:/c%3A/Users/%ED%95%9C%EA%B5%ADIT/Desktop/python-study/%ED%8C%8C%EC%9D%B4%EC%8D%AC-%EC%88%98%EC%97%85%EB%82%B4%EC%9A%A9/1030-1.ipynb#W4sZmlsZQ%3D%3D?line=8'>9</a>\u001b[0m cases \u001b[39m=\u001b[39m {\u001b[39m1\u001b[39m,\u001b[39m2\u001b[39m,\u001b[39m3\u001b[39m,\u001b[39m4\u001b[39m,\u001b[39m5\u001b[39m,\u001b[39m6\u001b[39m}\n\u001b[0;32m     <a href='vscode-notebook-cell:/c%3A/Users/%ED%95%9C%EA%B5%ADIT/Desktop/python-study/%ED%8C%8C%EC%9D%B4%EC%8D%AC-%EC%88%98%EC%97%85%EB%82%B4%EC%9A%A9/1030-1.ipynb#W4sZmlsZQ%3D%3D?line=9'>10</a>\u001b[0m cases_3times \u001b[39m=\u001b[39m exp(cases , \u001b[39m3\u001b[39m)\n\u001b[1;32m---> <a href='vscode-notebook-cell:/c%3A/Users/%ED%95%9C%EA%B5%ADIT/Desktop/python-study/%ED%8C%8C%EC%9D%B4%EC%8D%AC-%EC%88%98%EC%97%85%EB%82%B4%EC%9A%A9/1030-1.ipynb#W4sZmlsZQ%3D%3D?line=11'>12</a>\u001b[0m \u001b[39mprint\u001b[39m(\u001b[39m'\u001b[39m\u001b[39m주사위를 세번 던져 발생할 수 있는 사건은 \u001b[39m\u001b[39m%d\u001b[39;00m\u001b[39m가지 경우가 존재합니다\u001b[39m\u001b[39m'\u001b[39m \u001b[39m%\u001b[39m (\u001b[39mlen\u001b[39;49m(cases_3times) ))\n",
      "\u001b[1;31mTypeError\u001b[0m: object of type 'NoneType' has no len()"
     ]
    }
   ],
   "source": [
    "def exp(input_set,exponent):\n",
    "    res = input_set\n",
    "    for _ in range(exponent-1):\n",
    "        res = product_set(res,input_set)\n",
    "        \n",
    "        \n",
    "        \n",
    "        \n",
    "cases = {1,2,3,4,5,6}\n",
    "cases_3times = exp(cases , 3)\n",
    "\n",
    "print('주사위를 세번 던져 발생할 수 있는 사건은 %d가지 경우가 존재합니다' % (len(cases_3times) ))"
   ]
  },
  {
   "cell_type": "code",
   "execution_count": 40,
   "metadata": {},
   "outputs": [
    {
     "name": "stdout",
     "output_type": "stream",
     "text": [
      "('hello', 'world', 'python') (1, 2, 3) (400, 500, 600)\n"
     ]
    }
   ],
   "source": [
    "str_lst = ['hello','world','python','rocks']\n",
    "int_tup = (1,2,3)\n",
    "int_list = [400,500,600,700,800]\n",
    "\n",
    "zip_lst = list(zip(str_lst,int_tup,int_list))\n",
    "\n",
    "a,b,c = zip(*zip_lst)\n",
    "print(a,b,c)"
   ]
  },
  {
   "cell_type": "code",
   "execution_count": null,
   "metadata": {},
   "outputs": [],
   "source": []
  }
 ],
 "metadata": {
  "kernelspec": {
   "display_name": "Python 3",
   "language": "python",
   "name": "python3"
  },
  "language_info": {
   "codemirror_mode": {
    "name": "ipython",
    "version": 3
   },
   "file_extension": ".py",
   "mimetype": "text/x-python",
   "name": "python",
   "nbconvert_exporter": "python",
   "pygments_lexer": "ipython3",
   "version": "3.11.4"
  }
 },
 "nbformat": 4,
 "nbformat_minor": 2
}
