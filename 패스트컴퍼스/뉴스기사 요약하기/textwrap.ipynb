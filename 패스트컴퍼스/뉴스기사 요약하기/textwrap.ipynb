{
 "cells": [
  {
   "cell_type": "code",
   "execution_count": 1,
   "metadata": {},
   "outputs": [
    {
     "name": "stdout",
     "output_type": "stream",
     "text": [
      "sql과 파이썬은 전 세계에서 가장 인기 있는 프로그래밍 언어이자 미래에도 수요가 높을 것으로 예상된다.\n"
     ]
    }
   ],
   "source": [
    "import textwrap\n",
    "\n",
    "text = 'sql과 파이썬은 전 세계에서 가장 인기 있는 프로그래밍 언어이자 미래에도 수요가 높을 것으로 예상된다.'\n",
    "\n",
    "print(text)"
   ]
  },
  {
   "cell_type": "code",
   "execution_count": 4,
   "metadata": {},
   "outputs": [
    {
     "data": {
      "text/plain": [
       "'sql과 파이썬은 전 [...]'"
      ]
     },
     "execution_count": 4,
     "metadata": {},
     "output_type": "execute_result"
    }
   ],
   "source": [
    "textwrap.shorten(text,width=20)"
   ]
  },
  {
   "cell_type": "code",
   "execution_count": 5,
   "metadata": {},
   "outputs": [
    {
     "data": {
      "text/plain": [
       "'sql과 파이썬은 전...[중략]'"
      ]
     },
     "execution_count": 5,
     "metadata": {},
     "output_type": "execute_result"
    }
   ],
   "source": [
    "textwrap.shorten(text,width=20,placeholder=\"...[중략]\")"
   ]
  },
  {
   "cell_type": "code",
   "execution_count": 6,
   "metadata": {},
   "outputs": [],
   "source": [
    "wrapped_text = textwrap.wrap(text, width=50)"
   ]
  },
  {
   "cell_type": "code",
   "execution_count": 7,
   "metadata": {},
   "outputs": [
    {
     "name": "stdout",
     "output_type": "stream",
     "text": [
      "['sql과 파이썬은 전 세계에서 가장 인기 있는 프로그래밍 언어이자 미래에도 수요가 높을', '것으로 예상된다.']\n"
     ]
    }
   ],
   "source": [
    "print(wrapped_text)"
   ]
  },
  {
   "cell_type": "code",
   "execution_count": 8,
   "metadata": {},
   "outputs": [
    {
     "name": "stdout",
     "output_type": "stream",
     "text": [
      "sql과 파이썬은 전 세계에서 가장 인기 있는 프로그래밍 언어이자 미래에도 수요가 높을\n",
      "것으로 예상된다.\n"
     ]
    }
   ],
   "source": [
    "print('\\n'.join(wrapped_text))"
   ]
  },
  {
   "cell_type": "code",
   "execution_count": 9,
   "metadata": {},
   "outputs": [],
   "source": [
    "filled_text = textwrap.fill(text, width=40)"
   ]
  },
  {
   "cell_type": "code",
   "execution_count": 10,
   "metadata": {},
   "outputs": [
    {
     "name": "stdout",
     "output_type": "stream",
     "text": [
      "sql과 파이썬은 전 세계에서 가장 인기 있는 프로그래밍 언어이자\n",
      "미래에도 수요가 높을 것으로 예상된다.\n"
     ]
    }
   ],
   "source": [
    "print(filled_text)"
   ]
  },
  {
   "cell_type": "code",
   "execution_count": 13,
   "metadata": {},
   "outputs": [
    {
     "name": "stdout",
     "output_type": "stream",
     "text": [
      "['sql과', '파이썬은', '전', '세계에서', '가장', '인기', '있는', '프로그래밍', '언어이자', '미래에도', '수요가', '높을', '것으로', '예상된다']\n"
     ]
    }
   ],
   "source": [
    "import re\n",
    "\n",
    "words = re.findall(r'\\w+',text)\n",
    "\n",
    "print(words)"
   ]
  },
  {
   "cell_type": "code",
   "execution_count": 21,
   "metadata": {},
   "outputs": [],
   "source": [
    "contact = '''김미키 010-3344-5566 nike@naver.com\n",
    "김유신 010-3344-5326 qwer@goolge.com\n",
    "유한솔 010-2384-5266 rtyuy@naver.com\n",
    "박민철 010-3412-5308 q155er@goolge.com\n",
    "이민아 010-2987-5786 r5151yuy@naver.com'''"
   ]
  },
  {
   "cell_type": "code",
   "execution_count": 16,
   "metadata": {},
   "outputs": [
    {
     "name": "stdout",
     "output_type": "stream",
     "text": [
      "010-3344-5566\n",
      "010-3344-5326\n",
      "010-2384-5266\n",
      "010-3412-5308\n",
      "010-2987-5786\n"
     ]
    }
   ],
   "source": [
    "regex = r'0\\d{1,2}[ -]?\\d{3,4}[ -]?\\d{3,4}'\n",
    "\n",
    "phone = re.findall(regex, contact)\n",
    "print('\\n'.join(phone))"
   ]
  },
  {
   "cell_type": "code",
   "execution_count": 22,
   "metadata": {},
   "outputs": [
    {
     "name": "stdout",
     "output_type": "stream",
     "text": [
      "김미키 ***-****-**** nike@naver.com\n",
      "김유신 ***-****-**** qwer@goolge.com\n",
      "유한솔 ***-****-**** rtyuy@naver.com\n",
      "박민철 ***-****-**** q155er@goolge.com\n",
      "이민아 ***-****-**** r5151yuy@naver.com\n"
     ]
    }
   ],
   "source": [
    "pat = re.compile(r'0\\d{1,2}[ -]?\\d{3,4}[ -]?\\d{3,4}')\n",
    "print(pat.sub(\"***-****-****\",contact))"
   ]
  },
  {
   "cell_type": "code",
   "execution_count": 23,
   "metadata": {},
   "outputs": [],
   "source": []
  }
 ],
 "metadata": {
  "kernelspec": {
   "display_name": "Python 3",
   "language": "python",
   "name": "python3"
  },
  "language_info": {
   "codemirror_mode": {
    "name": "ipython",
    "version": 3
   },
   "file_extension": ".py",
   "mimetype": "text/x-python",
   "name": "python",
   "nbconvert_exporter": "python",
   "pygments_lexer": "ipython3",
   "version": "3.11.4"
  }
 },
 "nbformat": 4,
 "nbformat_minor": 2
}
