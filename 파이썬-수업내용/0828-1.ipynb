{
 "cells": [
  {
   "cell_type": "code",
   "execution_count": 3,
   "metadata": {},
   "outputs": [
    {
     "name": "stdout",
     "output_type": "stream",
     "text": [
      "나의 이름은 :  연창현\n",
      "나의 나이는 :  23\n",
      "나의 키는 :  183\n"
     ]
    }
   ],
   "source": [
    "print(\"나의 이름은 : \",\"연창현\")\n",
    "print(\"나의 나이는 : \",\"23\")\n",
    "print(\"나의 키는 : \", \"183\")"
   ]
  },
  {
   "cell_type": "code",
   "execution_count": 5,
   "metadata": {},
   "outputs": [
    {
     "name": "stdout",
     "output_type": "stream",
     "text": [
      "원의 반지름 4.0\n",
      "원의 면적 50.24\n",
      "원의 둘레 25.12\n"
     ]
    }
   ],
   "source": [
    "print('원의 반지름', 4.0)\n",
    "print('원의 면적', 3.14 * 4.0 * 4.0)\n",
    "print('원의 둘레', 2.0 * 3.14 * 4.0)"
   ]
  },
  {
   "cell_type": "code",
   "execution_count": 6,
   "metadata": {},
   "outputs": [
    {
     "name": "stdout",
     "output_type": "stream",
     "text": [
      "원의 반지름 4.0\n",
      "원의 면적 50.24\n",
      "원의 둘레 25.12\n"
     ]
    }
   ],
   "source": [
    "radius = 4.0\n",
    "print('원의 반지름',radius)\n",
    "print('원의 면적',3.14 * radius * radius)\n",
    "print('원의 둘레', 2.0 * 3.14 * radius)"
   ]
  },
  {
   "cell_type": "code",
   "execution_count": 8,
   "metadata": {},
   "outputs": [
    {
     "name": "stdout",
     "output_type": "stream",
     "text": [
      "안녕! 나는 홍길동 이야. 나이는 27 이야\n",
      "안녕! 나는 홍길순 이야. 나이는 23 이야\n"
     ]
    }
   ],
   "source": [
    "name = '홍길동'\n",
    "age = 27\n",
    "print('안녕! 나는',name,'이야. 나이는',age,'이야')\n",
    "name = '홍길순'\n",
    "age = 23\n",
    "print('안녕! 나는',name,'이야. 나이는',age,'이야')"
   ]
  },
  {
   "cell_type": "code",
   "execution_count": 4,
   "metadata": {},
   "outputs": [
    {
     "name": "stdout",
     "output_type": "stream",
     "text": [
      "5 + 5 = 10\n",
      "5 - 5 = 0\n",
      "5 / 5 = 1.0\n",
      "5 * 5 = 25\n",
      "5 \\% 5 = 0\n",
      "5 // 5 = 1\n",
      "5 ** 5 = 3125\n"
     ]
    }
   ],
   "source": [
    "a = int(input(\"정수를 입력하시오: \"))\n",
    "b = int(input(\"정수를 입력하시오: \"))\n",
    "print(a,'+',b,'=', a+b)\n",
    "print(a,'-',b,'=', a-b)\n",
    "print(a,'/',b,'=', a/b)\n",
    "print(a,'*',b,'=', a*b)\n",
    "print(a,'\\%',b,'=', a%b)\n",
    "print(a,'//',b,'=', a//b)\n",
    "print(a,'**',b,'=', a**b)"
   ]
  },
  {
   "cell_type": "code",
   "execution_count": 6,
   "metadata": {},
   "outputs": [
    {
     "name": "stdout",
     "output_type": "stream",
     "text": [
      "5 + 5 = 10\n",
      "5 - 5 = 0\n",
      "5 / 5 = 1\n",
      "5 * 5 = 25.0\n",
      "5 % 5 = 0.0\n",
      "5 // 5 = 1.0\n",
      "5 ** 5 = 3125.0\n"
     ]
    }
   ],
   "source": [
    "a = int(input(\"정수를 입력하시오: \"))\n",
    "b = int(input(\"정수를 입력하시오: \"))\n",
    "\n",
    "print('%d + %d = %d' % (a,b,a+b))\n",
    "print('%d - %d = %d' % (a,b,a-b))\n",
    "print('%d / %d = %d' % (a,b,a/b))\n",
    "print('%d * %d = %.1f' % (a,b,a*b))\n",
    "print('%d %% %d = %.1f' % (a,b,a%b))\n",
    "print('%d // %d = %.1f' % (a,b,a//b))\n",
    "print('%d ** %d = %.1f' % (a,b,a**b))\n"
   ]
  },
  {
   "cell_type": "code",
   "execution_count": 10,
   "metadata": {},
   "outputs": [
    {
     "name": "stdout",
     "output_type": "stream",
     "text": [
      "24 184\n"
     ]
    }
   ],
   "source": [
    "my_age = 23\n",
    "my_height = '183'\n",
    "my_age = my_age+1\n",
    "my_height = int(my_height) + 1\n",
    "print(my_age, my_height)"
   ]
  },
  {
   "cell_type": "code",
   "execution_count": 11,
   "metadata": {},
   "outputs": [
    {
     "name": "stdout",
     "output_type": "stream",
     "text": [
      "<class 'dict'>\n",
      "<class 'tuple'>\n",
      "<class 'set'>\n",
      "{10, 20, 30}\n"
     ]
    }
   ],
   "source": [
    "d = {'apple':3000, 'banana':4200}\n",
    "print(type(d))\n",
    "t = ('홍길동',30,'율도국의 왕')\n",
    "print(type(t))\n",
    "s = {10,20,30,20}\n",
    "print(type(s))\n",
    "print(s)"
   ]
  },
  {
   "cell_type": "code",
   "execution_count": 15,
   "metadata": {},
   "outputs": [
    {
     "name": "stdout",
     "output_type": "stream",
     "text": [
      "'Let's go\n",
      "큰따옴표(\")와 작은따옴표(')를 모두 포함판 문장\n",
      "사과는 맛있어\n",
      "맛있는건 바나나\n",
      "\n"
     ]
    }
   ],
   "source": [
    "txt6 = \"'Let's go\"\n",
    "print(txt6)\n",
    "\n",
    "txt7 = ('''큰따옴표(\")와 작은따옴표(')를 모두 포함판 문장''')\n",
    "print(txt7)\n",
    "\n",
    "long_str = \"\"\"사과는 맛있어\n",
    "맛있는건 바나나\n",
    "\"\"\"\n",
    "print(long_str)\n",
    "\n"
   ]
  },
  {
   "cell_type": "code",
   "execution_count": 16,
   "metadata": {},
   "outputs": [
    {
     "name": "stdout",
     "output_type": "stream",
     "text": [
      "True\n",
      "False\n",
      "0.30000000000000004\n"
     ]
    }
   ],
   "source": [
    "print(0.1+0.1 == 0.2)\n",
    "print(0.1+0.1+0.1 == 0.3)\n",
    "print(0.1+0.1+0.1)"
   ]
  },
  {
   "cell_type": "code",
   "execution_count": 22,
   "metadata": {},
   "outputs": [
    {
     "name": "stdout",
     "output_type": "stream",
     "text": [
      "2.0\n",
      "3.0\n",
      "(3+6j)\n",
      "3.0\n",
      "6.0\n",
      "(3-6j)\n",
      "6.708203932499369\n"
     ]
    },
    {
     "data": {
      "text/plain": [
       "'\\nreal == 복소수의 실수부분을 리턴\\nimag == 복소수의 허수부분을 리턴\\nconjugate == 복소수의 켤레복소수를 리턴\\nabs == 복소수의 절대값을 리턴\\n'"
      ]
     },
     "execution_count": 22,
     "metadata": {},
     "output_type": "execute_result"
    }
   ],
   "source": [
    "c1 = 2+3j\n",
    "print(c1.real)\n",
    "print(c1.imag)\n",
    "\n",
    "\n",
    "a = 2 + 4j\n",
    "b = 1 + 2j\n",
    "\n",
    "c = a + b\n",
    "\n",
    "print(c)\n",
    "print(c.real)\n",
    "print(c.imag)\n",
    "print(c.conjugate())\n",
    "print(abs(c))\n",
    "\n",
    "\"\"\"\n",
    "real == 복소수의 실수부분을 리턴\n",
    "imag == 복소수의 허수부분을 리턴\n",
    "conjugate == 복소수의 켤레복소수를 리턴\n",
    "abs == 복소수의 절대값을 리턴\n",
    "\"\"\"\n"
   ]
  },
  {
   "cell_type": "code",
   "execution_count": 29,
   "metadata": {},
   "outputs": [
    {
     "name": "stdout",
     "output_type": "stream",
     "text": [
      "(6+7j)\n",
      "(-2+1j)\n",
      "(-4+22j)\n",
      "(0.8+0.4j)\n"
     ]
    }
   ],
   "source": [
    "a = 2+4j\n",
    "b = 4+3j\n",
    "print(a+b)\n",
    "print(a-b)\n",
    "print(a*b)\n",
    "print(a/b)"
   ]
  },
  {
   "cell_type": "code",
   "execution_count": 11,
   "metadata": {},
   "outputs": [
    {
     "name": "stdout",
     "output_type": "stream",
     "text": [
      "(2-3j)\n"
     ]
    },
    {
     "data": {
      "text/plain": [
       "3.605551275463989"
      ]
     },
     "execution_count": 11,
     "metadata": {},
     "output_type": "execute_result"
    }
   ],
   "source": [
    "c1 = 2 + 3j\n",
    "c2 = c1.conjugate()\n",
    "print(c2)\n",
    "abs(c1)\n"
   ]
  },
  {
   "cell_type": "code",
   "execution_count": 1,
   "metadata": {},
   "outputs": [
    {
     "name": "stdout",
     "output_type": "stream",
     "text": [
      "1\n",
      "0\n",
      "2 4 8\n",
      "8 9 8 1\n",
      "0b1000 0b1001 0b1000 0b1\n",
      "11 9\n",
      "0b1011 0b1001\n",
      "3 1\n",
      "-10\n",
      "8\n"
     ]
    }
   ],
   "source": [
    "a = 1\n",
    "\n",
    "print(a | 1)\n",
    "print(a >> 1)\n",
    "print(a << 1, a << 2, a << 3)\n",
    "\n",
    "print( 9 & 10 , 9 & 9 , 9 & 8 , 9 & 7) # and\n",
    "print(bin(8),bin(9),bin(8),bin(1)) \n",
    "\n",
    "print(9|10,9|1) # or\n",
    "print(bin(11),bin(9))\n",
    "\n",
    "print( 9 ^ 10 , 9 ^ 8) # XOR\n",
    "\n",
    "print(~9) # NOT \n",
    "print(~-9)\n"
   ]
  },
  {
   "cell_type": "code",
   "execution_count": 31,
   "metadata": {},
   "outputs": [
    {
     "name": "stdout",
     "output_type": "stream",
     "text": [
      "<class 'list'>\n",
      "<class 'dict'>\n",
      "{'apple': 3000, 'banana': 4200}\n",
      "<class 'tuple'>\n"
     ]
    }
   ],
   "source": [
    "A = [100,200,300,500,900]\n",
    "\n",
    "print(type(A))\n",
    "\n",
    "B = {'apple':3000, 'banana':4200}\n",
    "print(type(B))\n",
    "print(B)\n",
    "\n",
    "\n",
    "C = ('홍길동',30,'율도국의 왕')\n",
    "print(type(C))\n"
   ]
  }
 ],
 "metadata": {
  "kernelspec": {
   "display_name": "Python 3",
   "language": "python",
   "name": "python3"
  },
  "language_info": {
   "codemirror_mode": {
    "name": "ipython",
    "version": 3
   },
   "file_extension": ".py",
   "mimetype": "text/x-python",
   "name": "python",
   "nbconvert_exporter": "python",
   "pygments_lexer": "ipython3",
   "version": "3.11.5"
  },
  "orig_nbformat": 4
 },
 "nbformat": 4,
 "nbformat_minor": 2
}
