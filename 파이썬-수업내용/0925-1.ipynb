{
 "cells": [
  {
   "cell_type": "code",
   "execution_count": 3,
   "metadata": {},
   "outputs": [
    {
     "name": "stdout",
     "output_type": "stream",
     "text": [
      "2152988481008\n",
      "2152988173744\n"
     ]
    }
   ],
   "source": [
    "a_str = \"Hello Python\"\n",
    "print(id(a_str))\n",
    "\n",
    "n = 365\n",
    "print(id(n))"
   ]
  },
  {
   "cell_type": "code",
   "execution_count": 4,
   "metadata": {},
   "outputs": [
    {
     "name": "stdout",
     "output_type": "stream",
     "text": [
      "100 과 200 중 더 큰 수 는 :  200\n",
      "100 과 200 중 더 작은 수는 :  100\n"
     ]
    }
   ],
   "source": [
    "def min2(m,n):\n",
    "    if m > n:\n",
    "        return n\n",
    "    else:\n",
    "        return m\n",
    "\n",
    "def max2(m,n):\n",
    "    if m > n:\n",
    "        return m\n",
    "    else:\n",
    "        return n\n",
    "\n",
    "print('100 과 200 중 더 큰 수 는 : ', max2(100,200))\n",
    "print('100 과 200 중 더 작은 수는 : ', min2(100,200))"
   ]
  },
  {
   "cell_type": "code",
   "execution_count": 5,
   "metadata": {},
   "outputs": [
    {
     "name": "stdout",
     "output_type": "stream",
     "text": [
      "1마일 = 1.61키로\n",
      "2마일 = 3.22키로\n",
      "3마일 = 4.83키로\n",
      "4마일 = 6.44키로\n",
      "5마일 = 8.05키로\n"
     ]
    }
   ],
   "source": [
    "def mile2km(mile):\n",
    "    return mile * 1.61\n",
    "\n",
    "for i in range(1,6):\n",
    "    print('{}마일 = {}키로'.format(i,mile2km(i)))"
   ]
  },
  {
   "cell_type": "code",
   "execution_count": null,
   "metadata": {},
   "outputs": [],
   "source": [
    "def inch2cm(inch):\n",
    "    return inch * 2.54\n",
    "\n",
    "for i in range(1,6):\n",
    "    print('{}인치는 {} 센치미터 입니다.'.format(i,inch2cm(i)))"
   ]
  },
  {
   "cell_type": "code",
   "execution_count": 9,
   "metadata": {},
   "outputs": [
    {
     "name": "stdout",
     "output_type": "stream",
     "text": [
      "섭씨 10도는 화씨50.0도 입니다.\n",
      "섭씨 20도는 화씨68.0도 입니다.\n",
      "섭씨 30도는 화씨86.0도 입니다.\n",
      "섭씨 40도는 화씨104.0도 입니다.\n",
      "섭씨 50도는 화씨122.0도 입니다.\n"
     ]
    }
   ],
   "source": [
    "def cel2fah(cel):\n",
    "    return (9/5)*cel + 32\n",
    "\n",
    "for i in range(1,6):\n",
    "    cel = i * 10\n",
    "    print('섭씨 {}도는 화씨{}도 입니다.'.format(cel,cel2fah(cel)))"
   ]
  },
  {
   "cell_type": "code",
   "execution_count": 14,
   "metadata": {},
   "outputs": [
    {
     "name": "stdout",
     "output_type": "stream",
     "text": [
      "평균값은 1\n",
      "최대값은 : 6\n",
      "1, 2, 3 의 최대값은 : 3\n",
      "1, 2, 3 의 최소값은 : 1\n"
     ]
    }
   ],
   "source": [
    "def mean3(a,b,c):\n",
    "    return(a+b+c)/3\n",
    "\n",
    "def max3(a,b,c):\n",
    "    if a>b:\n",
    "        max2 = a\n",
    "    else:\n",
    "        max2 = b\n",
    "    if max2 < c:\n",
    "        max2 = c\n",
    "    return max2\n",
    "\n",
    "def min3(a,b,c):\n",
    "    if a>b:\n",
    "        min2 = b\n",
    "    else:\n",
    "        min2 = a\n",
    "    if min2 > c:\n",
    "        min2 = c\n",
    "    return min2\n",
    "\n",
    "def mean6(a,b,c,d,e,f):\n",
    "    return (mean3(a,b,c) + mean3(d,e,f))/2\n",
    "\n",
    "def max6(a,b,c,d,e,f):\n",
    "    m1 = max3(a,b,c)\n",
    "    m2 = max3(d,e,f)\n",
    "    if m1 > m2:\n",
    "        return m1\n",
    "    else:\n",
    "        return m2\n",
    "\n",
    "#a,b,c = map(int, input(\"세 수를 입력하세요\").split())\n",
    "a,b,c,d,e,f = map(int, input(\"여섯개의 수를 입력하세요 : \").split())\n",
    "\n",
    "\n",
    "#print('{}, {}, {} 의 평균값은 : {}'.format(a,b,c,mean3(a,b,c)))\n",
    "\n",
    "\n",
    "print('평균값은 {}'.format(a,b,c,d,e,f))\n",
    "\n",
    "print('최대값은 : {}'.format(max6(a,b,c,d,e,f)))\n",
    "\n",
    "print('{}, {}, {} 의 최대값은 : {}'.format(a,b,c,max3(a,b,c)))\n",
    "print('{}, {}, {} 의 최소값은 : {}'.format(a,b,c,min3(a,b,c)))"
   ]
  },
  {
   "cell_type": "code",
   "execution_count": null,
   "metadata": {},
   "outputs": [],
   "source": [
    "def mean_of_n(s):\n",
    "    total = 0\n",
    "    num = len(s)\n",
    "    for i in s:\n",
    "        total += i\n",
    "    return total/num\n",
    "\n",
    "def max_of_n(s):\n",
    "    m = s[0]\n",
    "    for i in range(1, len(s)):\n",
    "        if m < s[i]:\n",
    "            m = s[i]\n",
    "    return m\n",
    "\n",
    "def min_of_n(s):\n",
    "    m = s[0]\n",
    "    for i in range(1, len(s)):\n",
    "        if m > s[i]:\n",
    "            m = s[i]\n",
    "    return m\n",
    "\n",
    "s = input('정수를 여러개 입력하시오').split()\n",
    "print('평균값 {}'.format(mean_of_n(s)))\n",
    "print('최대값 {}'.format(max_of_n(s)))\n",
    "print('최소값 {}'.format(min_of_n(s)))"
   ]
  },
  {
   "cell_type": "code",
   "execution_count": 16,
   "metadata": {},
   "outputs": [
    {
     "name": "stdout",
     "output_type": "stream",
     "text": [
      "prime_list의 첫 요소 2\n",
      "prime_list의 첫 요소 2\n"
     ]
    }
   ],
   "source": [
    "prime_list = [2,3,4,7]\n",
    "print('prime_list의 첫 요소',prime_list[0])\n",
    "print('prime_list의 첫 요소',prime_list[-len(prime_list)])"
   ]
  },
  {
   "cell_type": "code",
   "execution_count": 19,
   "metadata": {},
   "outputs": [
    {
     "name": "stdout",
     "output_type": "stream",
     "text": [
      "추가 전 소수 목록 [2, 3, 4, 7]\n",
      "추가 후 소수 목록 [2, 3, 4, 7, 11]\n",
      "삭제 전 소수 목록 [2, 3, 4, 11]\n"
     ]
    }
   ],
   "source": [
    "\n",
    "print('추가 전 소수 목록',prime_list)\n",
    "prime_list.append(11)\n",
    "print('추가 후 소수 목록',prime_list)\n",
    "prime_list.remove(7)\n",
    "print('삭제 전 소수 목록',prime_list)\n"
   ]
  }
 ],
 "metadata": {
  "kernelspec": {
   "display_name": "Python 3",
   "language": "python",
   "name": "python3"
  },
  "language_info": {
   "codemirror_mode": {
    "name": "ipython",
    "version": 3
   },
   "file_extension": ".py",
   "mimetype": "text/x-python",
   "name": "python",
   "nbconvert_exporter": "python",
   "pygments_lexer": "ipython3",
   "version": "3.11.4"
  },
  "orig_nbformat": 4
 },
 "nbformat": 4,
 "nbformat_minor": 2
}
