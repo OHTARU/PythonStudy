{
 "cells": [
  {
   "cell_type": "markdown",
   "metadata": {},
   "source": [
    "설치\n",
    "pip install 패키지명\n",
    "\n",
    "삭제\n",
    "pip uninstall 패키지명\n",
    "\n",
    "특정버전으로 설치 \n",
    "pip install 패키지명 == 버전\n",
    "\n",
    "패키지 버전 업그레이드\n",
    "pip install --upgrade 패키지명\n",
    "\n",
    "설치된 패키지 확인\n",
    "pip list\n",
    "\n",
    "패키지 리스트 파일로 저장\n",
    "pip list --format=freeze >\n",
    "requirements.txt\n",
    "패키지 리스트 설치\n",
    "pip install -r requirements.txt"
   ]
  }
 ],
 "metadata": {
  "language_info": {
   "name": "python"
  }
 },
 "nbformat": 4,
 "nbformat_minor": 2
}
