{
 "cells": [
  {
   "cell_type": "code",
   "execution_count": 1,
   "metadata": {},
   "outputs": [
    {
     "data": {
      "text/plain": [
       "'연창현'"
      ]
     },
     "execution_count": 1,
     "metadata": {},
     "output_type": "execute_result"
    }
   ],
   "source": [
    "person = {'이름' : '연창현','나이':'23','학과':'컴퓨터공학과'}\n",
    "\n",
    "person['이름']"
   ]
  },
  {
   "cell_type": "code",
   "execution_count": 36,
   "metadata": {},
   "outputs": [
    {
     "name": "stdout",
     "output_type": "stream",
     "text": [
      "apple의 가격은 3000\n",
      "apple의 가격은 2000\n",
      "5000\n"
     ]
    }
   ],
   "source": [
    "fruits_dic = {'apple':3000 , 'banana':2000 , 'orange':1000}\n",
    "\n",
    "print('apple의 가격은 %d' % fruits_dic['apple'])\n",
    "print('apple의 가격은 %d' % fruits_dic['banana'])\n",
    "print(fruits_dic['apple'] + fruits_dic['banana'])"
   ]
  },
  {
   "cell_type": "code",
   "execution_count": 37,
   "metadata": {},
   "outputs": [
    {
     "name": "stdout",
     "output_type": "stream",
     "text": [
      "{'이름': '홍길동', '나이': 26, '몸무게': 82, '특기': '분신술', '아버지': '홍판서'}\n"
     ]
    }
   ],
   "source": [
    "person = {'이름':'홍길동','나이':26,'몸무게':82}\n",
    "\n",
    "person['특기'] = '분신술'\n",
    "person['아버지'] = '홍판서'\n",
    "print(person)"
   ]
  },
  {
   "cell_type": "code",
   "execution_count": 41,
   "metadata": {},
   "outputs": [
    {
     "name": "stdout",
     "output_type": "stream",
     "text": [
      "{'이름': '홍길동', '나이': 26}\n"
     ]
    }
   ],
   "source": [
    "person = {'이름':'홍길동','나이':26,'몸무게':82}\n",
    "\n",
    "person.popitem()\n",
    "print(person)"
   ]
  },
  {
   "cell_type": "code",
   "execution_count": 43,
   "metadata": {},
   "outputs": [
    {
     "name": "stdout",
     "output_type": "stream",
     "text": [
      "dict_keys(['apple', 'banana', 'orange'])\n",
      "dict_values([3000, 2000, 1000])\n",
      "{'banana': 2000, 'orange': 1000}\n"
     ]
    }
   ],
   "source": [
    "fruits_dic = {'apple':3000 , 'banana':2000 , 'orange':1000}\n",
    "\n",
    "print(fruits_dic.keys())\n",
    "print(fruits_dic.values())\n",
    "fruits_dic.pop('apple')\n",
    "print(fruits_dic)"
   ]
  },
  {
   "cell_type": "code",
   "execution_count": 44,
   "metadata": {},
   "outputs": [
    {
     "name": "stdout",
     "output_type": "stream",
     "text": [
      "pop(0) 이전 : [11, 22, 33, 44, 55]\n",
      "pop(0) 이후 : [22, 33, 44, 55]\n"
     ]
    }
   ],
   "source": [
    "lst = [11,22,33,44,55]\n",
    "\n",
    "print('pop(0) 이전 :',lst)\n",
    "lst.pop(0)\n",
    "print('pop(0) 이후 :',lst)\n"
   ]
  },
  {
   "cell_type": "code",
   "execution_count": 48,
   "metadata": {},
   "outputs": [
    {
     "name": "stdout",
     "output_type": "stream",
     "text": [
      "{0: 11, 1: 22, 2: 33, 3: 44}\n",
      "0 1 2 3 "
     ]
    }
   ],
   "source": [
    "dic = {0:11,1:22,2:33,3:44}\n",
    "print(dic)\n",
    "\n",
    "for i in dic:\n",
    "    print(i,end=\" \")"
   ]
  },
  {
   "cell_type": "code",
   "execution_count": 49,
   "metadata": {},
   "outputs": [
    {
     "name": "stdout",
     "output_type": "stream",
     "text": [
      "{0: 11, 1: 22, 2: 33, 3: 44}\n",
      "pop(0) 이전 : dict_items([(0, 11), (1, 22), (2, 33), (3, 44)])\n",
      "pop(0) 이전 dic[1] 22\n",
      "pop(0) 이후 : dict_items([(1, 22), (2, 33), (3, 44)])\n",
      "pop(0) 이후 dic[1] 22\n"
     ]
    }
   ],
   "source": [
    "dic = {0:11,1:22,2:33,3:44}\n",
    "print(dic)\n",
    "\n",
    "print('pop(0) 이전 :', dic.items())\n",
    "print('pop(0) 이전 dic[1]',dic[1])\n",
    "dic.pop(0)\n",
    "print('pop(0) 이후 :', dic.items())\n",
    "print('pop(0) 이후 dic[1]',dic[1])\n"
   ]
  },
  {
   "cell_type": "code",
   "execution_count": 56,
   "metadata": {},
   "outputs": [
    {
     "name": "stdout",
     "output_type": "stream",
     "text": [
      "dict_keys(['apple', 'banana', 'melon', 'orange'])\n",
      "['apple', 'banana', 'melon', 'orange'] [3000, 2000, 5000, 4000]\n",
      "fruits_dic 딕셔너리 항목 개수 : 4\n"
     ]
    }
   ],
   "source": [
    "fruits_dic = {'apple':3000,'banana':2000,'melon':5000,'orange':4000}\n",
    "print(fruits_dic.keys())\n",
    "\n",
    "lst = list(fruits_dic.keys())\n",
    "value = list(fruits_dic.values())\n",
    "print(lst,value)\n",
    "\n",
    "print('fruits_dic 딕셔너리 항목 개수 :',len(fruits_dic))"
   ]
  },
  {
   "cell_type": "code",
   "execution_count": 57,
   "metadata": {},
   "outputs": [
    {
     "name": "stdout",
     "output_type": "stream",
     "text": [
      "apple is in fruits_dic\n"
     ]
    }
   ],
   "source": [
    "if 'apple' in fruits_dic:\n",
    "    print('apple is in fruits_dic')\n",
    "else:\n",
    "    print('apple is no in fruits_dic')"
   ]
  },
  {
   "cell_type": "code",
   "execution_count": 58,
   "metadata": {},
   "outputs": [
    {
     "name": "stdout",
     "output_type": "stream",
     "text": [
      "mango is no in fruits_dic\n"
     ]
    }
   ],
   "source": [
    "if 'mango' in fruits_dic:\n",
    "    print('mango is in fruits_dic')\n",
    "else:\n",
    "    print('mango is no in fruits_dic')"
   ]
  },
  {
   "cell_type": "code",
   "execution_count": 59,
   "metadata": {},
   "outputs": [
    {
     "name": "stdout",
     "output_type": "stream",
     "text": [
      "1919년 3월 2일은 삼일절입니다.\n"
     ]
    }
   ],
   "source": [
    "the_day=(1919,3,2)\n",
    "year,month,day=the_day\n",
    "print('%d년 %d월 %d일은 삼일절입니다.' %(year,month,day))"
   ]
  },
  {
   "cell_type": "code",
   "execution_count": 60,
   "metadata": {},
   "outputs": [
    {
     "name": "stdout",
     "output_type": "stream",
     "text": [
      "a = 30\n",
      "a = 20\n",
      "a = 10\n"
     ]
    }
   ],
   "source": [
    "lst = [10,20,30]\n",
    "tup = tuple(lst)\n",
    "c,b,a = lst\n",
    "print('a =',a)\n",
    "print('a =',b)\n",
    "print('a =',c)\n"
   ]
  },
  {
   "cell_type": "code",
   "execution_count": 63,
   "metadata": {},
   "outputs": [
    {
     "name": "stdout",
     "output_type": "stream",
     "text": [
      "(10, 20, 30, 10, 20, 30)\n"
     ]
    },
    {
     "data": {
      "text/plain": [
       "2"
      ]
     },
     "execution_count": 63,
     "metadata": {},
     "output_type": "execute_result"
    }
   ],
   "source": [
    "t0 = (10,20,30)\n",
    "t1 = t0 + t0\n",
    "print(t1)\n",
    "\n",
    "t = (10,20,30,40,50,10,60)\n",
    "t.count(10)"
   ]
  },
  {
   "cell_type": "code",
   "execution_count": 72,
   "metadata": {},
   "outputs": [
    {
     "name": "stdout",
     "output_type": "stream",
     "text": [
      "변경전 : ('apple', 'orange', 'water melon')\n",
      "변경후 : ('apple', 'kiwi', 'water melon')\n"
     ]
    }
   ],
   "source": [
    "t_fruits = ('apple','orange','water melon')\n",
    "print('변경전 :',t_fruits)\n",
    "f_list = list(t_fruits)\n",
    "f_list[1] = 'kiwi'\n",
    "t_fruits = tuple(f_list)\n",
    "print('변경후 :',t_fruits)"
   ]
  },
  {
   "cell_type": "code",
   "execution_count": 77,
   "metadata": {},
   "outputs": [
    {
     "name": "stdout",
     "output_type": "stream",
     "text": [
      "변경 후 : ('연창현', 23233233)\n"
     ]
    }
   ],
   "source": [
    "dic = {'이름':'연창현','학번':23076006}\n",
    "person = tuple(dic.values())\n",
    "lst = list(person)\n",
    "lst[1] = 23233233\n",
    "person = tuple(lst)\n",
    "print('변경 후 :',person)"
   ]
  },
  {
   "cell_type": "code",
   "execution_count": 81,
   "metadata": {},
   "outputs": [
    {
     "name": "stdout",
     "output_type": "stream",
     "text": [
      "반지름 4인 원의 면적과 둘레: 50.24 , 25.12\n"
     ]
    }
   ],
   "source": [
    "def area_circum(radius):\n",
    "    area = 3.14 * radius ** 2\n",
    "    circum = 2 * 3.14 * radius\n",
    "    return area, circum\n",
    "\n",
    "r = 4 \n",
    "a , c = area_circum(r)\n",
    "print('반지름 {}인 원의 면적과 둘레: {} , {}'.format(r,a,c))"
   ]
  },
  {
   "cell_type": "code",
   "execution_count": 95,
   "metadata": {},
   "outputs": [
    {
     "name": "stdout",
     "output_type": "stream",
     "text": [
      "10 제곱 = 100 , 20의 제곱 = 400  입니다.\n"
     ]
    }
   ],
   "source": [
    "def square(x,y):\n",
    "    return x**2, y**2\n",
    "x = 10\n",
    "y = 20 \n",
    "x_sq, y_sq = square(x,y)\n",
    "\n",
    "print('{} 제곱 = {} , {}의 제곱 = {}  입니다.'.format(x,x_sq,y,y_sq))"
   ]
  },
  {
   "cell_type": "code",
   "execution_count": 96,
   "metadata": {},
   "outputs": [
    {
     "name": "stdout",
     "output_type": "stream",
     "text": [
      "(10, 20, 30, 40, 50, 60)\n"
     ]
    }
   ],
   "source": [
    "print((10,20,30) + (40,50,60))"
   ]
  },
  {
   "cell_type": "code",
   "execution_count": 103,
   "metadata": {},
   "outputs": [
    {
     "name": "stdout",
     "output_type": "stream",
     "text": [
      "{'sun', 'fri', 'thu', 'mon', 'sat', 'tue', 'wed'}\n"
     ]
    }
   ],
   "source": [
    "days_list = ['mon','tue','wed','thu','fri','sat','sun']\n",
    "\n",
    "lst = set(days_list)\n",
    "\n",
    "print(lst)"
   ]
  },
  {
   "cell_type": "code",
   "execution_count": 104,
   "metadata": {},
   "outputs": [
    {
     "name": "stdout",
     "output_type": "stream",
     "text": [
      "<class 'set'>\n",
      "lst =  {'apple', 'banana', 'mango'}\n",
      "s1 =  {'apple', 'banana', 'mango'}\n"
     ]
    }
   ],
   "source": [
    "lst = {'apple','mango','banana'}\n",
    "s1 = set(lst)\n",
    "print(type(s1))\n",
    "print('lst = ',lst)\n",
    "print('s1 = ',s1)"
   ]
  },
  {
   "cell_type": "code",
   "execution_count": 106,
   "metadata": {},
   "outputs": [
    {
     "name": "stdout",
     "output_type": "stream",
     "text": [
      "greet=  {'o', 'd', 'f', 'g', 't', 'a', 'e', 'r', 'n', ' '}\n"
     ]
    }
   ],
   "source": [
    "greet = 'good afternoon'\n",
    "\n",
    "s2 = set(greet)\n",
    "print('greet= ' ,s2)\n"
   ]
  },
  {
   "cell_type": "code",
   "execution_count": 116,
   "metadata": {},
   "outputs": [
    {
     "data": {
      "text/plain": [
       "False"
      ]
     },
     "execution_count": 116,
     "metadata": {},
     "output_type": "execute_result"
    }
   ],
   "source": [
    "s1 ={1,2,3,4,5,6,7,8,9,10}\n",
    "s2 = {10,5,7,14,15,16,17,18,19,20}\n",
    "#s1.union(s2)\n",
    "\n",
    "s1.intersection(s2)\n",
    "\n",
    "s2.issubset(s1)\n"
   ]
  },
  {
   "cell_type": "code",
   "execution_count": 119,
   "metadata": {},
   "outputs": [
    {
     "name": "stdout",
     "output_type": "stream",
     "text": [
      "{40, 10, 50, 20, 60, 30}\n",
      "{40, 30}\n",
      "{10, 20}\n",
      "{10, 50, 20, 60}\n"
     ]
    }
   ],
   "source": [
    "s1 = {10,20,30,40}\n",
    "s2= {30,40,50,60}\n",
    "\n",
    "print (s1|s2)\n",
    "print(s1&s2)\n",
    "print(s1 - s2)\n",
    "print(s1 ^ s2)"
   ]
  },
  {
   "cell_type": "code",
   "execution_count": 120,
   "metadata": {},
   "outputs": [
    {
     "name": "stdout",
     "output_type": "stream",
     "text": [
      "AxB {(1, 'A'), (2, 'C'), (2, 'A'), (2, 'B'), (1, 'C'), (1, 'B')}\n",
      "BxA {('A', 2), ('B', 1), ('B', 2), ('C', 1), ('C', 2), ('A', 1)}\n",
      "AxA {(1, 1), (1, 2), (2, 1), (2, 2)}\n",
      "BxB {('C', 'C'), ('C', 'B'), ('B', 'C'), ('B', 'A'), ('B', 'B'), ('C', 'A'), ('A', 'C'), ('A', 'A'), ('A', 'B')}\n"
     ]
    }
   ],
   "source": [
    "def product_set(set1,set2):\n",
    "    res = set()\n",
    "    for i in set1:\n",
    "        for j in set2:\n",
    "            res = res | {(i,j)}\n",
    "    return res\n",
    "\n",
    "A = {1,2}\n",
    "B = {'A','B','C'}\n",
    "AxB = product_set(A,B)\n",
    "BxA = product_set(B,A)\n",
    "AxA = product_set(A,A)\n",
    "BxB = product_set(B,B)\n",
    "print('AxB',AxB)\n",
    "print('BxA',BxA)\n",
    "print('AxA',AxA)\n",
    "print('BxB',BxB)"
   ]
  },
  {
   "cell_type": "code",
   "execution_count": 123,
   "metadata": {},
   "outputs": [
    {
     "name": "stdout",
     "output_type": "stream",
     "text": [
      "{(3, 4), (4, 3), (3, 1), (5, 4), (4, 6), (5, 1), (2, 2), (1, 6), (2, 5), (1, 3), (6, 2), (6, 5), (4, 2), (4, 5), (3, 3), (5, 6), (3, 6), (5, 3), (2, 4), (1, 2), (2, 1), (1, 5), (6, 1), (6, 4), (3, 2), (4, 1), (3, 5), (5, 2), (4, 4), (5, 5), (1, 1), (1, 4), (2, 3), (2, 6), (6, 6), (6, 3)}\n",
      "(3, 4)\n",
      "(4, 3)\n",
      "(3, 1)\n",
      "(5, 4)\n",
      "(4, 6)\n",
      "(5, 1)\n",
      "(2, 2)\n",
      "(1, 6)\n",
      "(2, 5)\n",
      "(1, 3)\n",
      "(6, 2)\n",
      "(6, 5)\n",
      "(4, 2)\n",
      "(4, 5)\n",
      "(3, 3)\n",
      "(5, 6)\n",
      "(3, 6)\n",
      "(5, 3)\n",
      "(2, 4)\n",
      "(1, 2)\n",
      "(2, 1)\n",
      "(1, 5)\n",
      "(6, 1)\n",
      "(6, 4)\n",
      "(3, 2)\n",
      "(4, 1)\n",
      "(3, 5)\n",
      "(5, 2)\n",
      "(4, 4)\n",
      "(5, 5)\n",
      "(1, 1)\n",
      "(1, 4)\n",
      "(2, 3)\n",
      "(2, 6)\n",
      "(6, 6)\n",
      "(6, 3)\n"
     ]
    }
   ],
   "source": [
    "def product_set(set1,set2):\n",
    "    res = set()\n",
    "    for i in set1:\n",
    "        for j in set2:\n",
    "            res = res | {(i,j)}\n",
    "    return res\n",
    "\n",
    "def exp(input_set,exponent):\n",
    "    res = input_set\n",
    "    for _ in range(exponent-1):\n",
    "        res = product_set(res,input_set)\n",
    "        \n",
    "cases = [1,2,3,4,5,6]\n",
    "case_2time = product_set(cases,cases)\n",
    "print(case_2time)\n",
    "\n",
    "for tuple_element in case_2time:\n",
    "    print(tuple_element)"
   ]
  },
  {
   "cell_type": "code",
   "execution_count": 136,
   "metadata": {},
   "outputs": [
    {
     "ename": "TypeError",
     "evalue": "count() takes at least 1 argument (0 given)",
     "output_type": "error",
     "traceback": [
      "\u001b[1;31m---------------------------------------------------------------------------\u001b[0m",
      "\u001b[1;31mTypeError\u001b[0m                                 Traceback (most recent call last)",
      "\u001b[1;32mc:\\Users\\한국IT\\Desktop\\python-study\\파이썬-수업내용\\1023-1.ipynb 셀 27\u001b[0m line \u001b[0;36m5\n\u001b[0;32m      <a href='vscode-notebook-cell:/c%3A/Users/%ED%95%9C%EA%B5%ADIT/Desktop/python-study/%ED%8C%8C%EC%9D%B4%EC%8D%AC-%EC%88%98%EC%97%85%EB%82%B4%EC%9A%A9/1023-1.ipynb#X40sZmlsZQ%3D%3D?line=0'>1</a>\u001b[0m \u001b[39mstr\u001b[39m \u001b[39m=\u001b[39m \u001b[39m'\u001b[39m\u001b[39m토마토마토마토마토토마토마토마토마토토마토마토마토마토토마토마토마토마토토마토마토마토마토토마토마토마토마토토마토마토마토마토토마토마토마토마토토마토마토마토마토토마토마토마토마토토마토마토마토마토토마토마토마토마토토마토마토마토마토토마토마토마토마토토마토마토마토마토토마토마토마토마토토마토마토마토마토토마토마토마토마토토마토마토마토마토토마토마토마토마토토마토마토마토마토토마토마토마토마토토마토마토마토마토토마토마토마토마토토마토마토마토마토토마토마토마토마토토마토마토마토마토토마토마토마토마토토마토마토마토마토토마토마토마토마토토마토마토마토마토토마토마토마토마토토마토마토마토마토토마토마토마토마토토마토마토마토마토토마토마토마토마토토마토마토마토마토토마토마토마토마토토마토마토마토마토토마토마토마토마토토마토마토마토마토토마토마토마토마토토마토마토마토마토토마토마토마토마토토마토마토마토마토토마토마토마토마토토마토마토마토마토토마토마토마토마토토마토마토마토마토토마토마토마토마토토마토마토마토마토토마토마토마토마토토마토마토마토마토토마토마토마토마토토마토마토마토마토토마토마토마토마토토마토마토마토마토\u001b[39m\u001b[39m'\u001b[39m\n\u001b[1;32m----> <a href='vscode-notebook-cell:/c%3A/Users/%ED%95%9C%EA%B5%ADIT/Desktop/python-study/%ED%8C%8C%EC%9D%B4%EC%8D%AC-%EC%88%98%EC%97%85%EB%82%B4%EC%9A%A9/1023-1.ipynb#X40sZmlsZQ%3D%3D?line=4'>5</a>\u001b[0m \u001b[39mstr\u001b[39;49m\u001b[39m.\u001b[39;49mcount()\n",
      "\u001b[1;31mTypeError\u001b[0m: count() takes at least 1 argument (0 given)"
     ]
    }
   ],
   "source": []
  }
 ],
 "metadata": {
  "kernelspec": {
   "display_name": "Python 3",
   "language": "python",
   "name": "python3"
  },
  "language_info": {
   "codemirror_mode": {
    "name": "ipython",
    "version": 3
   },
   "file_extension": ".py",
   "mimetype": "text/x-python",
   "name": "python",
   "nbconvert_exporter": "python",
   "pygments_lexer": "ipython3",
   "version": "3.11.4"
  }
 },
 "nbformat": 4,
 "nbformat_minor": 2
}
