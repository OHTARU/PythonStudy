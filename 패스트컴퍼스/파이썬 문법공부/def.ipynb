{
 "cells": [
  {
   "cell_type": "code",
   "execution_count": 1,
   "metadata": {},
   "outputs": [
    {
     "name": "stdout",
     "output_type": "stream",
     "text": [
      "Hello\n"
     ]
    }
   ],
   "source": [
    "#기본형\n",
    "#1. 정의하기\n",
    "def printHello():\n",
    "    print(\"Hello\")\n",
    "\n",
    "#2. 호출하기\n",
    "printHello()"
   ]
  },
  {
   "cell_type": "code",
   "execution_count": 3,
   "metadata": {},
   "outputs": [
    {
     "name": "stdout",
     "output_type": "stream",
     "text": [
      "30\n"
     ]
    }
   ],
   "source": [
    "#매개변수가 있는 함수\n",
    "def sum(a,b):\n",
    "    print(a+b)\n",
    "\n",
    "sum(10,20)"
   ]
  },
  {
   "cell_type": "code",
   "execution_count": 29,
   "metadata": {},
   "outputs": [
    {
     "name": "stdout",
     "output_type": "stream",
     "text": [
      "1\n"
     ]
    }
   ],
   "source": [
    "#반환값이 있는 함수\n",
    "\n",
    "import random\n",
    "\n",
    "def getRandom():\n",
    "    number = random.randint(1,10)\n",
    "    return number\n",
    "\n",
    "print(getRandom())"
   ]
  },
  {
   "cell_type": "code",
   "execution_count": 30,
   "metadata": {},
   "outputs": [
    {
     "data": {
      "text/plain": [
       "11"
      ]
     },
     "execution_count": 30,
     "metadata": {},
     "output_type": "execute_result"
    }
   ],
   "source": [
    "#매개변수와 반환값이 있는 함수\n",
    "\n",
    "def add(a,b):\n",
    "    result = a+b\n",
    "    return result\n",
    "\n",
    "add(5,6)\n"
   ]
  },
  {
   "cell_type": "code",
   "execution_count": 35,
   "metadata": {},
   "outputs": [
    {
     "name": "stdout",
     "output_type": "stream",
     "text": [
      "합계 : 60 평균 : 20\n"
     ]
    }
   ],
   "source": [
    "def printSumAvg(x,y,z):\n",
    "    sum = x + y + z\n",
    "    avg = sum /3 \n",
    "\n",
    "\n",
    "    print(\"합계 :\" , sum , \"평균 :\", int(avg))\n",
    "    \n",
    "\n",
    "printSumAvg(10,20,30)"
   ]
  },
  {
   "cell_type": "code",
   "execution_count": 157,
   "metadata": {},
   "outputs": [
    {
     "name": "stdout",
     "output_type": "stream",
     "text": [
      "6 7 26 27 32 34 "
     ]
    }
   ],
   "source": [
    "import random\n",
    "\n",
    "def getRandomNumber():\n",
    "    number = random.randint(1,45)\n",
    "    return number\n",
    "\n",
    "count = 0\n",
    "\n",
    "lotto = []\n",
    "\n",
    "while True:\n",
    "    if count == 6:\n",
    "        break\n",
    "    randomNum = getRandomNumber()\n",
    "    if randomNum not in lotto:\n",
    "        lotto.append(randomNum)\n",
    "        count += 1\n",
    "\n",
    "lotto.sort()\n",
    "\n",
    "for num in lotto:\n",
    "    print(num, end = \" \")\n",
    "\n"
   ]
  },
  {
   "cell_type": "code",
   "execution_count": 239,
   "metadata": {},
   "outputs": [
    {
     "name": "stdout",
     "output_type": "stream",
     "text": [
      "2 9 13 33 41 42 "
     ]
    }
   ],
   "source": [
    "import random\n",
    "\n",
    "def getRandomNumber(): # 랜덤\n",
    "    number = random.randint(1,45)\n",
    "    return number\n",
    "\n",
    "lottoNumber = [] # 빈 리스트 생성\n",
    "count = 0\n",
    "\n",
    "while True: \n",
    "    if count == 6: # 만약 count가 6일 경우  \n",
    "        break     # 중단한다\n",
    "    randomnumber = getRandomNumber() # randomnumber 이란 변수에 getRandomNumber() 함수를 넣음\n",
    "    if randomnumber not in lottoNumber: # 만약 randomnumber가 lottoNumber에 없으면\n",
    "        lottoNumber.append(randomnumber) # lottoNumber에 append해라 randomnumber를\n",
    "        count += 1\n",
    "\n",
    "lottoNumber.sort() # lottoNumber를 올림차순으로 정렬해라\n",
    "\n",
    "for number in lottoNumber: \n",
    "    print(number, end=\" \")"
   ]
  }
 ],
 "metadata": {
  "kernelspec": {
   "display_name": "Python 3",
   "language": "python",
   "name": "python3"
  },
  "language_info": {
   "codemirror_mode": {
    "name": "ipython",
    "version": 3
   },
   "file_extension": ".py",
   "mimetype": "text/x-python",
   "name": "python",
   "nbconvert_exporter": "python",
   "pygments_lexer": "ipython3",
   "version": "3.11.5"
  }
 },
 "nbformat": 4,
 "nbformat_minor": 2
}
