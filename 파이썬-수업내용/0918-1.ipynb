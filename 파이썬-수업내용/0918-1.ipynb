{
 "cells": [
  {
   "cell_type": "code",
   "execution_count": 4,
   "metadata": {},
   "outputs": [
    {
     "name": "stdout",
     "output_type": "stream",
     "text": [
      "해는 2.0 또는 -4.0\n",
      "해는 2.0 또는 -4.0\n",
      "해는 4.0 또는 -1.0\n",
      "해는 4.0 또는 -1.0\n"
     ]
    },
    {
     "data": {
      "text/plain": [
       "(4.0, -1.0)"
      ]
     },
     "execution_count": 4,
     "metadata": {},
     "output_type": "execute_result"
    }
   ],
   "source": [
    "def print_root(a,b,c):\n",
    "    r1 = (-b + (b ** 2 - 4 * a * c) ** 0.5) / (2 * a)\n",
    "    r2 = (-b - (b ** 2 - 4 * a * c) ** 0.5) / (2 * a)\n",
    "    print('해는' , r1 , '또는' , r2)\n",
    "    \n",
    "    return r1,r2\n",
    "\n",
    "r1,r2 = print_root(1,2,-8)\n",
    "print_root(1,2,-8)\n",
    "r1,r2 = print_root(2,-6,-8)\n",
    "print_root(2,-6,-8)"
   ]
  },
  {
   "cell_type": "code",
   "execution_count": 10,
   "metadata": {},
   "outputs": [
    {
     "name": "stdout",
     "output_type": "stream",
     "text": [
      "밑변 10 높이 20 인 삼각형의 면적 : 100.0\n",
      "밑변 10 높이 20 의 삼각형의 면적 100.0\n",
      "밑변 10 높이 20의 삼각형의 면적 100.0 \n"
     ]
    }
   ],
   "source": [
    "def print_area(width,height):\n",
    "    area = width * height / 2\n",
    "    print('밑변',width,'높이',height,'인 삼각형의 면적 :', area)\n",
    "    print('밑변 {} 높이 {} 의 삼각형의 면적 {}'.format(width,height,area))\n",
    "    print('밑변 %d 높이 %d의 삼각형의 면적 %.1f '%(width,height,area))\n",
    "print_area(10,20)"
   ]
  },
  {
   "cell_type": "code",
   "execution_count": 11,
   "metadata": {},
   "outputs": [
    {
     "name": "stdout",
     "output_type": "stream",
     "text": [
      "반지름 10 인 원의 면적은 314.1952, 둘레는 62.83904\n"
     ]
    }
   ],
   "source": [
    "def area_circum(radius):\n",
    "    area = 3.141952 * radius ** 2\n",
    "    circum = 2 * 3.141952 * radius\n",
    "    \n",
    "    return area,circum\n",
    "\n",
    "radius = 10\n",
    "area,circum = area_circum(radius)\n",
    "print('반지름 {} 인 원의 면적은 {}, 둘레는 {}'.format(radius,area,circum))\n",
    "    "
   ]
  },
  {
   "cell_type": "code",
   "execution_count": 12,
   "metadata": {},
   "outputs": [
    {
     "name": "stdout",
     "output_type": "stream",
     "text": [
      "3 6 9 12\n",
      "3 6 9 12 5\n"
     ]
    }
   ],
   "source": [
    "def muliples(m,n):\n",
    "    lst=[]\n",
    "    for i in range(1,n+1):\n",
    "        lst.append(m*i)\n",
    "    return lst\n",
    "\n",
    "\n",
    "r1,r2,r3,r4 = muliples(3,4)\n",
    "print(r1,r2,r3,r4)\n",
    "r1,r2,r3,r4,r5 = muliples(3,5)\n",
    "print(r1,r2,r3,r4,5)"
   ]
  },
  {
   "cell_type": "code",
   "execution_count": 13,
   "metadata": {},
   "outputs": [
    {
     "name": "stdout",
     "output_type": "stream",
     "text": [
      "결과값300\n"
     ]
    }
   ],
   "source": [
    "def print_sum():\n",
    "    a = 100\n",
    "    b = 200\n",
    "    \n",
    "    result = a+b\n",
    "    print(\"결과값{}\".format(result))\n",
    "    \n",
    "    \n",
    "a = 10\n",
    "b = 20\n",
    "print_sum()"
   ]
  },
  {
   "cell_type": "code",
   "execution_count": 17,
   "metadata": {},
   "outputs": [
    {
     "name": "stdout",
     "output_type": "stream",
     "text": [
      "********\n",
      "********\n"
     ]
    }
   ],
   "source": [
    "def print_star(n=1): #디폴트 매개변수() 안에 넣기\n",
    "    for _ in range(n):\n",
    "        print('********')\n",
    "        \n",
    "        \n",
    "print_star()"
   ]
  },
  {
   "cell_type": "code",
   "execution_count": 20,
   "metadata": {},
   "outputs": [
    {
     "name": "stdout",
     "output_type": "stream",
     "text": [
      "1 2 10\n"
     ]
    }
   ],
   "source": [
    "def aa(a,b,c=10):\n",
    "    print(a,b,c)\n",
    "    \n",
    "aa(1,2)\n"
   ]
  },
  {
   "cell_type": "code",
   "execution_count": 21,
   "metadata": {},
   "outputs": [
    {
     "name": "stdout",
     "output_type": "stream",
     "text": [
      "rect area =  100\n",
      "circle area =  78.5\n"
     ]
    }
   ],
   "source": [
    "#키워드 매개변수 \n",
    "\n",
    "def func(shape, width=1 , height=1, radius =1):\n",
    "    if shape == 0 :\n",
    "        return width * height\n",
    "    if shape == 1 :\n",
    "        return 3.14*radius**2\n",
    "    \n",
    "print('rect area = ', func(0,width=10,height=10))\n",
    "print('circle area = ', func(1,radius=5))\n"
   ]
  },
  {
   "cell_type": "code",
   "execution_count": 23,
   "metadata": {},
   "outputs": [
    {
     "name": "stdout",
     "output_type": "stream",
     "text": [
      "인자의 개수 4\n",
      "인자 : (10, 20, 30, 40)\n"
     ]
    }
   ],
   "source": [
    "def foo(*args):\n",
    "    print('인자의 개수',len(args))\n",
    "    print('인자 :', args)\n",
    "    \n",
    "foo(10,20,30,40)"
   ]
  },
  {
   "cell_type": "code",
   "execution_count": 25,
   "metadata": {},
   "outputs": [
    {
     "name": "stdout",
     "output_type": "stream",
     "text": [
      "4 개의 인자 (10, 20, 30, 40)\n",
      "합계 100 평균 25.0\n"
     ]
    }
   ],
   "source": [
    "def sum_nums(*numbers):\n",
    "    print(len(numbers),'개의 인자',numbers)\n",
    "    print('합계',sum(numbers),'평균',sum(numbers)/len(numbers))\n",
    "    \n",
    "sum_nums(10,20,30,40)\n"
   ]
  },
  {
   "cell_type": "code",
   "execution_count": 30,
   "metadata": {},
   "outputs": [
    {
     "name": "stdout",
     "output_type": "stream",
     "text": [
      "최솟값 10\n",
      "합계 : 100\n"
     ]
    }
   ],
   "source": [
    "def min_nums(*nums):\n",
    "    min2 = nums[0]\n",
    "    for i in range(1,len(nums)):\n",
    "        if min2 > nums[i]:\n",
    "            min2 = nums[i]\n",
    "    print('최솟값', min2)\n",
    "    \n",
    "    \n",
    "    s = 0\n",
    "    for i in nums:\n",
    "        s += i\n",
    "    print('합계 :',s)\n",
    "min_nums(10,20,30,40)"
   ]
  },
  {
   "cell_type": "code",
   "execution_count": 33,
   "metadata": {},
   "outputs": [
    {
     "name": "stdout",
     "output_type": "stream",
     "text": [
      "fibonacci 수열 : 0 1 1 2 3 5 8 13 21 34 55 "
     ]
    }
   ],
   "source": [
    "def fibonacci(n):\n",
    "    if n <= 1:\n",
    "        return n\n",
    "    else:\n",
    "        return (fibonacci(n-1)+fibonacci(n-2))\n",
    "    \n",
    "nterms = int(input('몇 개의 피보나치 수열을 입력하세요'))\n",
    "if nterms <= 0:\n",
    "    print('오류 : 양수를 입력하세요')\n",
    "else:\n",
    "    print('fibonacci 수열 : ', end='')\n",
    "    for i in range(nterms):\n",
    "        print(fibonacci(i),end=' ')"
   ]
  },
  {
   "cell_type": "code",
   "execution_count": 35,
   "metadata": {},
   "outputs": [
    {
     "name": "stdout",
     "output_type": "stream",
     "text": [
      "연창현님의 나이는 21 살이며 직업은 학생 사는 곳은 동탄 입니다\n",
      "이름은 연창현 나이는 21 직업은 학생 사는곳은 동탄\n"
     ]
    }
   ],
   "source": [
    "name = input('당신의 이름을 입력하세요')\n",
    "age = input('나이를 입력하세요')\n",
    "job = input('직업을 입력하세요')\n",
    "addr = input('사는곳을 입력하세요')\n",
    "\n",
    "print('{}님의 나이는 {} 살이며 직업은 {} 사는 곳은 {} 입니다'.format(name,age,job,addr))\n",
    "print('이름은',name,'나이는',age,'직업은',job,'사는곳은',addr)"
   ]
  },
  {
   "cell_type": "code",
   "execution_count": 1,
   "metadata": {},
   "outputs": [
    {
     "name": "stdout",
     "output_type": "stream",
     "text": [
      "  2    3     4\n",
      "  4    5     6\n",
      "  6    7     8\n",
      "  8    9    10\n",
      " 10   11    12\n",
      " 12   13    14\n",
      " 14   15    16\n"
     ]
    }
   ],
   "source": [
    "for i in range(2, 15, 2):  # 2부터 14까지의 숫자 중에서 2씩 증가하는 값을 반복적으로 처리\n",
    "    print('{0:3d} {1:4d} {2:5d}'.format(i, i+1, i+2))  # 형식화된 문자열로 출력\n"
   ]
  },
  {
   "cell_type": "markdown",
   "metadata": {},
   "source": [
    "for i in range(2, 15, 2):: range(2, 15, 2)는 시작값이 2이고 끝값은 포함되지 않는 범위를 생성합니다. \n",
    "간격(step)은 2로 설정되어 있으므로 반복할 때마다 i 변수에는 시작값인 2부터 시작하여 각 반복마다 값이 할당됩니다.\n",
    "\n",
    "\n",
    "print('{0:3d} {1:4d} {2:5d}'.format(i, i+1, i+2))\n",
    "여기서 {0}, {1}, {2}는 각각 첫 번째 인자(i), 두 번째 인자(i+1), 세 번째 인자(i+3)를 나타냅니다. \n",
    "':3', ':4', ':5'는 최소 너비를 지정하는 부분으로서 출력되는 숫자의 자리수를 맞춰주기 위한 용도입니다."
   ]
  }
 ],
 "metadata": {
  "kernelspec": {
   "display_name": "Python 3",
   "language": "python",
   "name": "python3"
  },
  "language_info": {
   "codemirror_mode": {
    "name": "ipython",
    "version": 3
   },
   "file_extension": ".py",
   "mimetype": "text/x-python",
   "name": "python",
   "nbconvert_exporter": "python",
   "pygments_lexer": "ipython3",
   "version": "3.11.4"
  },
  "orig_nbformat": 4
 },
 "nbformat": 4,
 "nbformat_minor": 2
}
