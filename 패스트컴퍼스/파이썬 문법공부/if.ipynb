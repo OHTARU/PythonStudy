{
 "cells": [
  {
   "cell_type": "code",
   "execution_count": 2,
   "metadata": {},
   "outputs": [],
   "source": [
    "#조건문\n",
    "# : 조건에 따라 실행할 명령이 달라 지는 것\n",
    "\n",
    "origin_pass = \"1234\"\n",
    "input_pass = input(\"비밀번호를 입력하세요: \")\n",
    "\n",
    "if input_pass == origin_pass: # 조건 a\n",
    "    #조건 a 참\n",
    "    print(\"로그인 성공\")\n",
    "elif input_pass == \"\": #조건 b \n",
    "    #조건 b 참\n",
    "    print(\"아무것도 입력하지 않았습니다.\")\n",
    "else:\n",
    "    #조건 a 거짓, 조건 b 거짓\n",
    "    print(\"로그인 실패\")"
   ]
  },
  {
   "cell_type": "code",
   "execution_count": 4,
   "metadata": {},
   "outputs": [
    {
     "name": "stdout",
     "output_type": "stream",
     "text": [
      "수익 창출이 가능합니다.\n"
     ]
    }
   ],
   "source": [
    "youtube = int(input(\"구독자 수를 입력하세요\"))\n",
    "\n",
    "if youtube >= 1000:\n",
    "    print(\"수익 창출이 가능합니다.\")\n",
    "else:\n",
    "    print(\"수익 창출이 불가능합니다.\")\n",
    "\n"
   ]
  },
  {
   "cell_type": "code",
   "execution_count": 1,
   "metadata": {},
   "outputs": [
    {
     "name": "stdout",
     "output_type": "stream",
     "text": [
      "휴대폰 30분\n"
     ]
    }
   ],
   "source": [
    "study = int(input(\"공부시간을 입력하세요:\"))\n",
    "\n",
    "if study >= 10:\n",
    "    print(\"휴대폰 잠금 해제\")\n",
    "elif study >= 5:\n",
    "    print(\"휴대폰 30분\")\n",
    "else:\n",
    "    print(\"휴대폰 사용 불가능\")"
   ]
  },
  {
   "cell_type": "code",
   "execution_count": 2,
   "metadata": {},
   "outputs": [
    {
     "name": "stdout",
     "output_type": "stream",
     "text": [
      "오늘 저녁은 편의점 김밥\n"
     ]
    }
   ],
   "source": [
    "치킨 = int(input(\"현재 가진 금액을 입력하세요 >>>\"))\n",
    "\n",
    "if 치킨 >= 20000:\n",
    "    print(\"오늘 저녁은 치킨!\")\n",
    "elif 치킨 >= 10000:\n",
    "    print(\"오늘 저녁은 떡볶이!\")\n",
    "elif 치킨 >= 2000:\n",
    "    print(\"오늘 저녁은 편의점 김밥\")"
   ]
  },
  {
   "cell_type": "code",
   "execution_count": null,
   "metadata": {},
   "outputs": [],
   "source": [
    "국어 = int(input(\"점수를 입력하세요\"))\n",
    "영어 = int(input(\"점수를 입력하세요\"))\n",
    "수학 = int(input(\"점수를 입력하세요\"))\n",
    "\n",
    "합 = 국어+수학+영어\n",
    "평균 = 합/3\n",
    "\n",
    "\n",
    "if 0 <= 국어 <= 100 and 0<=영어<=100 and 0<=수학<=100:\n",
    "    if 평균 >= 80:\n",
    "        print(\"합격\")\n",
    "    elif 평균 < 80:\n",
    "        print(\"불합격\")\n",
    "else:\n",
    "    print(\"잘못 입력하셨습니다.\")"
   ]
  }
 ],
 "metadata": {
  "kernelspec": {
   "display_name": "Python 3",
   "language": "python",
   "name": "python3"
  },
  "language_info": {
   "codemirror_mode": {
    "name": "ipython",
    "version": 3
   },
   "file_extension": ".py",
   "mimetype": "text/x-python",
   "name": "python",
   "nbconvert_exporter": "python",
   "pygments_lexer": "ipython3",
   "version": "3.11.5"
  }
 },
 "nbformat": 4,
 "nbformat_minor": 2
}
