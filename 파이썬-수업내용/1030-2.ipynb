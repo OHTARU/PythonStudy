{
 "cells": [
  {
   "cell_type": "code",
   "execution_count": 3,
   "metadata": {},
   "outputs": [
    {
     "name": "stdout",
     "output_type": "stream",
     "text": [
      "2023-12-25 16:40:10.858471\n"
     ]
    }
   ],
   "source": [
    "import datetime as dt\n",
    "\n",
    "start_time = dt.datetime.now()\n",
    "print(start_time.replace(month=12 , day=25))"
   ]
  },
  {
   "cell_type": "code",
   "execution_count": 14,
   "metadata": {},
   "outputs": [
    {
     "name": "stdout",
     "output_type": "stream",
     "text": [
      "오늘의 날짜 : 2023년 10월 30일\n",
      "현재시간 : 오후 4시 48분 22초\n",
      "None\n"
     ]
    }
   ],
   "source": [
    "today = dt.datetime.now()\n",
    "print('오늘의 날짜 : {}년 {}월 {}일'.format(today.year, today.month, today.day))\n",
    "\n",
    "if today.hour < 12:\n",
    "    print('현재시간 : 오전 {}시 {}분 {}초'.format(today.hour, today.minute, today.second))\n",
    "else:\n",
    "    print(print('현재시간 : 오후 {}시 {}분 {}초'.format(today.hour-12, today.minute, today.second)))"
   ]
  },
  {
   "cell_type": "code",
   "execution_count": 16,
   "metadata": {},
   "outputs": [
    {
     "name": "stdout",
     "output_type": "stream",
     "text": [
      "2023-10-30 17:29:15\n"
     ]
    }
   ],
   "source": [
    "import time\n",
    "\n",
    "unix_timestamp = time.time()\n",
    "local_time = time.localtime(unix_timestamp)\n",
    "print(time.strftime(\"%Y-%m-%d %H:%M:%S\", local_time))"
   ]
  },
  {
   "cell_type": "code",
   "execution_count": 17,
   "metadata": {},
   "outputs": [
    {
     "name": "stdout",
     "output_type": "stream",
     "text": [
      "바로 출력되는 문구.\n",
      "4.5초 후 출력되는 문구.\n"
     ]
    }
   ],
   "source": [
    "print('바로 출력되는 문구.')\n",
    "time.sleep(4.5)\n",
    "print(\"4.5초 후 출력되는 문구.\")"
   ]
  },
  {
   "cell_type": "code",
   "execution_count": 31,
   "metadata": {},
   "outputs": [
    {
     "name": "stdout",
     "output_type": "stream",
     "text": [
      "1에서 100까지의 합을 구하고 출력하는 시간  0.1112\n"
     ]
    }
   ],
   "source": [
    "start_time = time.time()\n",
    "s = 0\n",
    "for i in range(1000001):\n",
    "    s += i\n",
    "end_time = time.time()\n",
    "gap = end_time - start_time\n",
    "print('1에서 100까지의 합을 구하고 출력하는 시간 {:7.4f}'.format(gap))"
   ]
  },
  {
   "cell_type": "code",
   "execution_count": 32,
   "metadata": {},
   "outputs": [],
   "source": [
    "import math as m"
   ]
  },
  {
   "cell_type": "code",
   "execution_count": 33,
   "metadata": {},
   "outputs": [
    {
     "data": {
      "text/plain": [
       "0.9999999999991198"
      ]
     },
     "execution_count": 33,
     "metadata": {},
     "output_type": "execute_result"
    }
   ],
   "source": [
    "m.sin(3.14159/2.0)"
   ]
  }
 ],
 "metadata": {
  "kernelspec": {
   "display_name": "Python 3",
   "language": "python",
   "name": "python3"
  },
  "language_info": {
   "codemirror_mode": {
    "name": "ipython",
    "version": 3
   },
   "file_extension": ".py",
   "mimetype": "text/x-python",
   "name": "python",
   "nbconvert_exporter": "python",
   "pygments_lexer": "ipython3",
   "version": "3.11.4"
  }
 },
 "nbformat": 4,
 "nbformat_minor": 2
}
