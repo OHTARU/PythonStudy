{
 "cells": [
  {
   "cell_type": "code",
   "execution_count": 6,
   "metadata": {},
   "outputs": [],
   "source": [
    "import math as m\n",
    "import random as rd"
   ]
  },
  {
   "cell_type": "code",
   "execution_count": 5,
   "metadata": {},
   "outputs": [
    {
     "name": "stdout",
     "output_type": "stream",
     "text": [
      "4 **  2 =      16.0\n",
      "4 **  3 =      64.0\n",
      "4 **  4 =     256.0\n",
      "4 **  5 =    1024.0\n",
      "4 **  6 =    4096.0\n",
      "4 **  7 =   16384.0\n",
      "4 **  8 =   65536.0\n",
      "4 **  9 =  262144.0\n",
      "4 ** 10 = 1048576.0\n"
     ]
    }
   ],
   "source": [
    "for i in range(2,11):\n",
    "    print('4 ** {:2d} = {:9.1f}'.format(i, m.pow(4,i)))"
   ]
  },
  {
   "cell_type": "code",
   "execution_count": 7,
   "metadata": {},
   "outputs": [
    {
     "name": "stdout",
     "output_type": "stream",
     "text": [
      "[6, 5, 1, 8, 4, 9, 10, 2, 3, 7]\n"
     ]
    }
   ],
   "source": [
    "a= list(range(1,11))\n",
    "\n",
    "rd.shuffle(a)\n",
    "print (a)"
   ]
  },
  {
   "cell_type": "code",
   "execution_count": 9,
   "metadata": {},
   "outputs": [
    {
     "name": "stdout",
     "output_type": "stream",
     "text": [
      "[5, 8, 3]\n"
     ]
    }
   ],
   "source": [
    "lst = list(range(1,11))\n",
    "\n",
    "lst2 = rd.sample(lst,3)\n",
    "\n",
    "print(lst2)"
   ]
  },
  {
   "cell_type": "code",
   "execution_count": 11,
   "metadata": {},
   "outputs": [
    {
     "name": "stdout",
     "output_type": "stream",
     "text": [
      "[3, 8, 5]\n"
     ]
    }
   ],
   "source": [
    "rd.shuffle(lst2)\n",
    "\n",
    "print(lst2)"
   ]
  },
  {
   "cell_type": "code",
   "execution_count": 13,
   "metadata": {},
   "outputs": [
    {
     "ename": "Terminator",
     "evalue": "",
     "output_type": "error",
     "traceback": [
      "\u001b[1;31m---------------------------------------------------------------------------\u001b[0m",
      "\u001b[1;31mTerminator\u001b[0m                                Traceback (most recent call last)",
      "\u001b[1;32mc:\\Users\\한국IT\\Desktop\\python-study\\파이썬-수업내용\\1106-1.ipynb 셀 6\u001b[0m line \u001b[0;36m6\n\u001b[0;32m      <a href='vscode-notebook-cell:/c%3A/Users/%ED%95%9C%EA%B5%ADIT/Desktop/python-study/%ED%8C%8C%EC%9D%B4%EC%8D%AC-%EC%88%98%EC%97%85%EB%82%B4%EC%9A%A9/1106-1.ipynb#W5sZmlsZQ%3D%3D?line=3'>4</a>\u001b[0m \u001b[39mfor\u001b[39;00m i \u001b[39min\u001b[39;00m \u001b[39mrange\u001b[39m(\u001b[39m200\u001b[39m):\n\u001b[0;32m      <a href='vscode-notebook-cell:/c%3A/Users/%ED%95%9C%EA%B5%ADIT/Desktop/python-study/%ED%8C%8C%EC%9D%B4%EC%8D%AC-%EC%88%98%EC%97%85%EB%82%B4%EC%9A%A9/1106-1.ipynb#W5sZmlsZQ%3D%3D?line=4'>5</a>\u001b[0m     t\u001b[39m.\u001b[39mforward(i)\n\u001b[1;32m----> <a href='vscode-notebook-cell:/c%3A/Users/%ED%95%9C%EA%B5%ADIT/Desktop/python-study/%ED%8C%8C%EC%9D%B4%EC%8D%AC-%EC%88%98%EC%97%85%EB%82%B4%EC%9A%A9/1106-1.ipynb#W5sZmlsZQ%3D%3D?line=5'>6</a>\u001b[0m     t\u001b[39m.\u001b[39;49mleft(\u001b[39m93\u001b[39;49m)\n\u001b[0;32m      <a href='vscode-notebook-cell:/c%3A/Users/%ED%95%9C%EA%B5%ADIT/Desktop/python-study/%ED%8C%8C%EC%9D%B4%EC%8D%AC-%EC%88%98%EC%97%85%EB%82%B4%EC%9A%A9/1106-1.ipynb#W5sZmlsZQ%3D%3D?line=6'>7</a>\u001b[0m t\u001b[39m.\u001b[39mdone()\n",
      "File \u001b[1;32m<string>:8\u001b[0m, in \u001b[0;36mleft\u001b[1;34m(angle)\u001b[0m\n",
      "File \u001b[1;32mc:\\Users\\한국IT\\AppData\\Local\\Programs\\Python\\Python311\\Lib\\turtle.py:1700\u001b[0m, in \u001b[0;36mTNavigator.left\u001b[1;34m(self, angle)\u001b[0m\n\u001b[0;32m   1681\u001b[0m \u001b[39mdef\u001b[39;00m \u001b[39mleft\u001b[39m(\u001b[39mself\u001b[39m, angle):\n\u001b[0;32m   1682\u001b[0m \u001b[39m    \u001b[39m\u001b[39m\"\"\"Turn turtle left by angle units.\u001b[39;00m\n\u001b[0;32m   1683\u001b[0m \n\u001b[0;32m   1684\u001b[0m \u001b[39m    Aliases: left | lt\u001b[39;00m\n\u001b[1;32m   (...)\u001b[0m\n\u001b[0;32m   1698\u001b[0m \u001b[39m    67.0\u001b[39;00m\n\u001b[0;32m   1699\u001b[0m \u001b[39m    \"\"\"\u001b[39;00m\n\u001b[1;32m-> 1700\u001b[0m     \u001b[39mself\u001b[39;49m\u001b[39m.\u001b[39;49m_rotate(angle)\n",
      "File \u001b[1;32mc:\\Users\\한국IT\\AppData\\Local\\Programs\\Python\\Python311\\Lib\\turtle.py:3293\u001b[0m, in \u001b[0;36mRawTurtle._rotate\u001b[1;34m(self, angle)\u001b[0m\n\u001b[0;32m   3291\u001b[0m     \u001b[39mfor\u001b[39;00m _ \u001b[39min\u001b[39;00m \u001b[39mrange\u001b[39m(steps):\n\u001b[0;32m   3292\u001b[0m         \u001b[39mself\u001b[39m\u001b[39m.\u001b[39m_orient \u001b[39m=\u001b[39m \u001b[39mself\u001b[39m\u001b[39m.\u001b[39m_orient\u001b[39m.\u001b[39mrotate(delta)\n\u001b[1;32m-> 3293\u001b[0m         \u001b[39mself\u001b[39;49m\u001b[39m.\u001b[39;49m_update()\n\u001b[0;32m   3294\u001b[0m \u001b[39mself\u001b[39m\u001b[39m.\u001b[39m_orient \u001b[39m=\u001b[39m neworient\n\u001b[0;32m   3295\u001b[0m \u001b[39mself\u001b[39m\u001b[39m.\u001b[39m_update()\n",
      "File \u001b[1;32mc:\\Users\\한국IT\\AppData\\Local\\Programs\\Python\\Python311\\Lib\\turtle.py:2661\u001b[0m, in \u001b[0;36mRawTurtle._update\u001b[1;34m(self)\u001b[0m\n\u001b[0;32m   2659\u001b[0m     \u001b[39mreturn\u001b[39;00m\n\u001b[0;32m   2660\u001b[0m \u001b[39melif\u001b[39;00m screen\u001b[39m.\u001b[39m_tracing \u001b[39m==\u001b[39m \u001b[39m1\u001b[39m:\n\u001b[1;32m-> 2661\u001b[0m     \u001b[39mself\u001b[39;49m\u001b[39m.\u001b[39;49m_update_data()\n\u001b[0;32m   2662\u001b[0m     \u001b[39mself\u001b[39m\u001b[39m.\u001b[39m_drawturtle()\n\u001b[0;32m   2663\u001b[0m     screen\u001b[39m.\u001b[39m_update()                  \u001b[39m# TurtleScreenBase\u001b[39;00m\n",
      "File \u001b[1;32mc:\\Users\\한국IT\\AppData\\Local\\Programs\\Python\\Python311\\Lib\\turtle.py:2647\u001b[0m, in \u001b[0;36mRawTurtle._update_data\u001b[1;34m(self)\u001b[0m\n\u001b[0;32m   2646\u001b[0m \u001b[39mdef\u001b[39;00m \u001b[39m_update_data\u001b[39m(\u001b[39mself\u001b[39m):\n\u001b[1;32m-> 2647\u001b[0m     \u001b[39mself\u001b[39;49m\u001b[39m.\u001b[39;49mscreen\u001b[39m.\u001b[39;49m_incrementudc()\n\u001b[0;32m   2648\u001b[0m     \u001b[39mif\u001b[39;00m \u001b[39mself\u001b[39m\u001b[39m.\u001b[39mscreen\u001b[39m.\u001b[39m_updatecounter \u001b[39m!=\u001b[39m \u001b[39m0\u001b[39m:\n\u001b[0;32m   2649\u001b[0m         \u001b[39mreturn\u001b[39;00m\n",
      "File \u001b[1;32mc:\\Users\\한국IT\\AppData\\Local\\Programs\\Python\\Python311\\Lib\\turtle.py:1293\u001b[0m, in \u001b[0;36mTurtleScreen._incrementudc\u001b[1;34m(self)\u001b[0m\n\u001b[0;32m   1291\u001b[0m \u001b[39mif\u001b[39;00m \u001b[39mnot\u001b[39;00m TurtleScreen\u001b[39m.\u001b[39m_RUNNING:\n\u001b[0;32m   1292\u001b[0m     TurtleScreen\u001b[39m.\u001b[39m_RUNNING \u001b[39m=\u001b[39m \u001b[39mTrue\u001b[39;00m\n\u001b[1;32m-> 1293\u001b[0m     \u001b[39mraise\u001b[39;00m Terminator\n\u001b[0;32m   1294\u001b[0m \u001b[39mif\u001b[39;00m \u001b[39mself\u001b[39m\u001b[39m.\u001b[39m_tracing \u001b[39m>\u001b[39m \u001b[39m0\u001b[39m:\n\u001b[0;32m   1295\u001b[0m     \u001b[39mself\u001b[39m\u001b[39m.\u001b[39m_updatecounter \u001b[39m+\u001b[39m\u001b[39m=\u001b[39m \u001b[39m1\u001b[39m\n",
      "\u001b[1;31mTerminator\u001b[0m: "
     ]
    }
   ],
   "source": [
    "import turtle as t\n",
    "t.setup(width=400, height=400)\n",
    "\n",
    "for i in range(200):\n",
    "    t.forward(i)\n",
    "    t.left(93)\n",
    "t.done()"
   ]
  },
  {
   "cell_type": "code",
   "execution_count": null,
   "metadata": {},
   "outputs": [],
   "source": [
    "t.shape('turtle')"
   ]
  },
  {
   "cell_type": "code",
   "execution_count": 2,
   "metadata": {},
   "outputs": [],
   "source": [
    "from tkinter import *\n",
    "\n",
    "window = Tk()\n",
    "label = Label(window,text = \"헬로우 파이썬\")\n",
    "label.pack()\n",
    "\n",
    "window.mainloop()"
   ]
  }
 ],
 "metadata": {
  "kernelspec": {
   "display_name": "Python 3",
   "language": "python",
   "name": "python3"
  },
  "language_info": {
   "codemirror_mode": {
    "name": "ipython",
    "version": 3
   },
   "file_extension": ".py",
   "mimetype": "text/x-python",
   "name": "python",
   "nbconvert_exporter": "python",
   "pygments_lexer": "ipython3",
   "version": "3.11.4"
  }
 },
 "nbformat": 4,
 "nbformat_minor": 2
}
