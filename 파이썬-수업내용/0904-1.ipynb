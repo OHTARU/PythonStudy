{
 "cells": [
  {
   "cell_type": "code",
   "execution_count": 1,
   "metadata": {},
   "outputs": [
    {
     "data": {
      "text/plain": [
       "'\\n여러줄 주석\\n'"
      ]
     },
     "execution_count": 1,
     "metadata": {},
     "output_type": "execute_result"
    }
   ],
   "source": [
    "#주석문 사용법\n",
    "#한줄 주석 # 사용\n",
    "\"\"\"\n",
    "여러줄 주석\n",
    "\"\"\""
   ]
  },
  {
   "cell_type": "code",
   "execution_count": 2,
   "metadata": {},
   "outputs": [
    {
     "name": "stdout",
     "output_type": "stream",
     "text": [
      "이름 : 1\n",
      "10년 후 나이 : 21\n"
     ]
    }
   ],
   "source": [
    "name = input('이름을 입력하세요 : ')\n",
    "print('이름 :', name)\n",
    "age = int(input('나이를 입력하세요 : '))\n",
    "print('10년 후 나이 :' , age+10)"
   ]
  },
  {
   "cell_type": "code",
   "execution_count": 3,
   "metadata": {},
   "outputs": [
    {
     "name": "stdout",
     "output_type": "stream",
     "text": [
      "m+n =  7\n",
      "m-n =  3\n"
     ]
    }
   ],
   "source": [
    "m = int(input(\"숫자 m 을 입력하세요 :\"))\n",
    "n = int(input(\"숫자 n을 입력하세요 :\"))\n",
    "print('m+n = ' , m+n)\n",
    "print('m-n = ' , m-n)"
   ]
  },
  {
   "cell_type": "code",
   "execution_count": 4,
   "metadata": {},
   "outputs": [
    {
     "name": "stdout",
     "output_type": "stream",
     "text": [
      "원의 면적은 :  78.5\n"
     ]
    }
   ],
   "source": [
    "radius = int(input('반지름을 입력하세요'))\n",
    "area = 3.14*radius**2\n",
    "print('원의 면적은 : ', area)"
   ]
  },
  {
   "cell_type": "code",
   "execution_count": 11,
   "metadata": {},
   "outputs": [
    {
     "name": "stdout",
     "output_type": "stream",
     "text": [
      "섭씨\t화씨\n",
      "0\t32.0\n",
      "10\t50.0\n",
      "20\t68.0\n",
      "30\t86.0\n"
     ]
    }
   ],
   "source": [
    "print('섭씨\\t화씨')\n",
    "celsius = 0\n",
    "fah = (9/5) * celsius + 32\n",
    "print('%d\\t%.1f' %(celsius, fah))\n",
    "celsius = 10\n",
    "fah = (9/5) * celsius + 32\n",
    "print('%d\\t%.1f' %(celsius, fah))\n",
    "celsius = 20\n",
    "fah = (9/5) * celsius + 32\n",
    "print('%d\\t%.1f' %(celsius, fah))\n",
    "celsius = 30\n",
    "fah = (9/5) * celsius + 32\n",
    "print('%d\\t%.1f' %(celsius, fah))"
   ]
  },
  {
   "cell_type": "code",
   "execution_count": 126,
   "metadata": {},
   "outputs": [
    {
     "name": "stdout",
     "output_type": "stream",
     "text": [
      "세자리 정수는  100\n",
      "백의자리  1\n",
      "십의 자리  0\n",
      "일의 자리  0\n"
     ]
    }
   ],
   "source": [
    "num = int(input(\"세자리 수를 입력하세요\"))\n",
    "\n",
    "print(\"세자리 정수는 \", num)\n",
    "\n",
    "print(\"백의자리 \" , num // 100)\n",
    "\n",
    "num = num % 100\n",
    "\n",
    "print(\"십의 자리 \" , num // 10)\n",
    "\n",
    "num = num % 10\n",
    "\n",
    "print(\"일의 자리 \" , num)"
   ]
  },
  {
   "cell_type": "code",
   "execution_count": 137,
   "metadata": {},
   "outputs": [
    {
     "name": "stdout",
     "output_type": "stream",
     "text": [
      "세자리 정수는  123\n",
      "첫째자리수 3\n",
      "둘째자리수 2\n",
      "셋째자리순 1\n"
     ]
    }
   ],
   "source": [
    "num = int(input(\"세자리 정수를 입력하세요\"))\n",
    "print(\"세자리 정수는 \", num)\n",
    "\n",
    "print(\"첫째자리수\" , num % 10)\n",
    "num = num // 10\n",
    "print(\"둘째자리수\",num % 10)\n",
    "num = num // 10\n",
    "print(\"셋째자리순\",num % 10)"
   ]
  },
  {
   "cell_type": "code",
   "execution_count": 298,
   "metadata": {},
   "outputs": [
    {
     "name": "stdout",
     "output_type": "stream",
     "text": [
      "두 정수는 다른 수 입니다.\n"
     ]
    }
   ],
   "source": [
    "num_a = int(input('한 정수를 입력하시요 : '))\n",
    "num_b = int(input('다른 한 정수를 입력하시오 : '))\n",
    "\n",
    "if num_a == num_b:\n",
    "    print(\"두 정수는 같은 수 입니다.\")\n",
    "else:\n",
    "    print(\"두 정수는 다른 수 입니다.\")"
   ]
  },
  {
   "cell_type": "code",
   "execution_count": 301,
   "metadata": {},
   "outputs": [
    {
     "name": "stdout",
     "output_type": "stream",
     "text": [
      "당신은 미성년자입니다.\n"
     ]
    }
   ],
   "source": [
    "a = int(input(\"성인이신가요 ( 성인이면 1 , 미성년자면 0 )\"))\n",
    "\n",
    "if a == 1:\n",
    "    b = int(input(\"결혼을 하셨나요 ( 기혼 1 , 미혼 0)\"))\n",
    "    if b == 1:\n",
    "        print(\"당신을 성인이며 기혼입니다.\")\n",
    "    else:\n",
    "        print(\"당신은 성인이며 미혼입니다.\")\n",
    "else:\n",
    "    print(\"당신은 미성년자입니다.\")"
   ]
  },
  {
   "cell_type": "code",
   "execution_count": 57,
   "metadata": {},
   "outputs": [
    {
     "name": "stdout",
     "output_type": "stream",
     "text": [
      "*\n",
      "**\n",
      "***\n",
      "****\n",
      "*****\n",
      "******\n",
      "*******\n",
      "********\n",
      "*********\n",
      "**********\n"
     ]
    }
   ],
   "source": [
    "for i in range(10):\n",
    "    print((i + 1)* '*')"
   ]
  },
  {
   "cell_type": "code",
   "execution_count": 86,
   "metadata": {},
   "outputs": [
    {
     "name": "stdout",
     "output_type": "stream",
     "text": [
      "구구단9단\n",
      "9 * 1 = 9\n",
      "9 * 2 = 18\n",
      "9 * 3 = 27\n",
      "9 * 4 = 36\n",
      "9 * 5 = 45\n",
      "9 * 6 = 54\n",
      "9 * 7 = 63\n",
      "9 * 8 = 72\n",
      "9 * 9 = 81\n"
     ]
    }
   ],
   "source": [
    "x = int(input(\"정수를 입력하세요\"))\n",
    "print(\"구구단\",x,\"단\",sep=\"\")\n",
    "\n",
    "for i in range(1,10):\n",
    "    print(x,\"*\",i,\"=\",x*i)"
   ]
  },
  {
   "cell_type": "code",
   "execution_count": 68,
   "metadata": {},
   "outputs": [
    {
     "name": "stdout",
     "output_type": "stream",
     "text": [
      "*\n",
      "**\n",
      "***\n",
      "****\n",
      "*****\n",
      "******\n",
      "*******\n",
      "********\n",
      "*********\n",
      "**********\n"
     ]
    }
   ],
   "source": [
    "for i in range(10):\n",
    "    print((i+1) * '*')"
   ]
  },
  {
   "cell_type": "code",
   "execution_count": 99,
   "metadata": {},
   "outputs": [
    {
     "name": "stdout",
     "output_type": "stream",
     "text": [
      "**********\n",
      "*********\n",
      "********\n",
      "*******\n",
      "******\n",
      "*****\n",
      "****\n",
      "***\n",
      "**\n",
      "*\n"
     ]
    }
   ],
   "source": [
    "x = 10\n",
    "for i in range(1, x+1):\n",
    "    for j in range(x+1-i):\n",
    "        print('*',end=\"\")\n",
    "    print()"
   ]
  },
  {
   "cell_type": "code",
   "execution_count": 254,
   "metadata": {},
   "outputs": [
    {
     "name": "stdout",
     "output_type": "stream",
     "text": [
      "         * \n",
      "        ** \n",
      "       *** \n",
      "      **** \n",
      "     ***** \n",
      "    ****** \n",
      "   ******* \n",
      "  ******** \n",
      " ********* \n",
      "********** \n"
     ]
    }
   ],
   "source": [
    "x= 10\n",
    "\n",
    "for i in range(1,x+1):\n",
    "    for j in range(x-i):\n",
    "        print(\" \",end=\"\")\n",
    "    for j in range(i):\n",
    "        print(\"*\",end=\"\")\n",
    "    print(\" \")"
   ]
  },
  {
   "cell_type": "code",
   "execution_count": 296,
   "metadata": {},
   "outputs": [
    {
     "name": "stdout",
     "output_type": "stream",
     "text": [
      "       *\n",
      "      ***\n",
      "     *****\n",
      "    *******\n",
      "   *********\n",
      "  ***********\n",
      " *************\n",
      "***************\n"
     ]
    }
   ],
   "source": [
    "x = 8\n",
    "\n",
    "for i in range(x):\n",
    "    print(\" \" * ((x - 1)-i), end = \"\")\n",
    "    print(\"*\" * (2 * i + 1))"
   ]
  },
  {
   "cell_type": "code",
   "execution_count": 303,
   "metadata": {},
   "outputs": [
    {
     "name": "stdout",
     "output_type": "stream",
     "text": [
      "70 점은 C 입니다.\n"
     ]
    }
   ],
   "source": [
    "score = int(input(\"점수를 입력하세요 : \"))\n",
    "\n",
    "if 90 <= score :\n",
    "    hakjum = \"A\"\n",
    "elif 80 <= score :\n",
    "    hakjum = \"B\"\n",
    "elif 70<= score :\n",
    "    hakjum = \"C\"\n",
    "elif 60<= score :\n",
    "    hakjum = \"D\"\n",
    "else:\n",
    "    hakjum = \"F\"\n",
    "    \n",
    "print(score , '점은', hakjum,\"입니다.\")"
   ]
  },
  {
   "cell_type": "code",
   "execution_count": 308,
   "metadata": {},
   "outputs": [
    {
     "name": "stdout",
     "output_type": "stream",
     "text": [
      "중속입니다\n"
     ]
    }
   ],
   "source": [
    "speed = int(input(\"자동차의 속도를 입력하세요 (단위 : km/h) :\"))\n",
    "\n",
    "if speed >= 100:\n",
    "    print(\"과속입니다\")\n",
    "elif speed >= 50:\n",
    "    print(\"중속입니다\")\n",
    "else:\n",
    "    print(\"저속입니다.\")"
   ]
  },
  {
   "cell_type": "code",
   "execution_count": 309,
   "metadata": {},
   "outputs": [
    {
     "name": "stdout",
     "output_type": "stream",
     "text": [
      "1\n",
      "3\n"
     ]
    }
   ],
   "source": [
    "#range(a,b,c) a = 시작지점 b = 종료지점 c = 배수\n",
    "for i in range(1,5,2): \n",
    "    print(i)"
   ]
  },
  {
   "cell_type": "code",
   "execution_count": 312,
   "metadata": {},
   "outputs": [
    {
     "name": "stdout",
     "output_type": "stream",
     "text": [
      "1 Hello, Python!\n",
      "2 Hello, Python!\n",
      "3 Hello, Python!\n",
      "4 Hello, Python!\n",
      "5 Hello, Python!\n"
     ]
    }
   ],
   "source": [
    "for i in range(5):\n",
    "    print(i+1, \"Hello, Python!\")"
   ]
  }
 ],
 "metadata": {
  "kernelspec": {
   "display_name": "Python 3",
   "language": "python",
   "name": "python3"
  },
  "language_info": {
   "codemirror_mode": {
    "name": "ipython",
    "version": 3
   },
   "file_extension": ".py",
   "mimetype": "text/x-python",
   "name": "python",
   "nbconvert_exporter": "python",
   "pygments_lexer": "ipython3",
   "version": "3.11.5"
  },
  "orig_nbformat": 4
 },
 "nbformat": 4,
 "nbformat_minor": 2
}
