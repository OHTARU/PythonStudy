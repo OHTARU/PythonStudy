{
 "cells": [
  {
   "cell_type": "code",
   "execution_count": 14,
   "metadata": {},
   "outputs": [
    {
     "name": "stdout",
     "output_type": "stream",
     "text": [
      "당신의 이름은: \n",
      "홍길동\n",
      "1.4142135623730951\n",
      "<class 'int'>\n",
      "<class 'str'>\n"
     ]
    }
   ],
   "source": [
    "print('당신의 이름은: ')\n",
    "name = '홍길동'\n",
    "print(name)\n",
    "\n",
    "\n",
    "print(2 ** (1/2)) #제곱근 구하는 방법\n",
    "\n",
    "foo1 = 100\n",
    "print(type(foo1))\n",
    "\n",
    "foo2 = 'Hello'\n",
    "print(type(foo2))"
   ]
  },
  {
   "cell_type": "markdown",
   "metadata": {},
   "source": [
    "문자열 형 변수에는 숫자를 더하는건 불가능함 (타입에러뜸)"
   ]
  },
  {
   "cell_type": "code",
   "execution_count": 16,
   "metadata": {},
   "outputs": [
    {
     "name": "stdout",
     "output_type": "stream",
     "text": [
      "<class 'list'>\n",
      "<class 'dict'>\n",
      "<class 'tuple'>\n"
     ]
    }
   ],
   "source": [
    "list = [100,200,300,400]\n",
    "print(type(list))\n",
    "\n",
    "dict = {'apple':3000,'banana':4000}\n",
    "print(type(dict))\n",
    "\n",
    "tuple = ('홍길동',30 ,'율도국의 왕')\n",
    "print(type(tuple))"
   ]
  },
  {
   "cell_type": "code",
   "execution_count": 45,
   "metadata": {},
   "outputs": [
    {
     "name": "stdout",
     "output_type": "stream",
     "text": [
      "강아지 이름은 \"햇님\"이야\n",
      "강아지 이름은 '햇님'이야\n",
      "강아지 이름은 \"햇님\"이야\n"
     ]
    }
   ],
   "source": [
    "txt1 = '강아지 이름은 \"햇님\"이야'\n",
    "print(txt1)\n",
    "txt2 = \"강아지 이름은 '햇님'이야\"\n",
    "print(txt2)\n",
    "txt3 = \"강아지 이름은 \\\"햇님\\\"이야\"\n",
    "print(txt3)\n"
   ]
  },
  {
   "cell_type": "markdown",
   "metadata": {},
   "source": [
    "bin(9) '0b1001'\n",
    "bin(10) '0b1010' > 2진수 출력\n",
    "\n",
    "9 & 10 '8'\n",
    "bin(8) '0b1000' > and 연산\n",
    "\n",
    "9 | 10 '11'\n",
    "bin(11) '0b1001' > or 연산\n",
    "\n",
    "9 ^ 10 '3'\n",
    "bin(3) '0b11' > or xor 연산\n",
    "\n",
    "~9 '-10'\n",
    "bin(10) '0b1010' not 연산\n",
    "\n",
    "4 << 1 '8' > 시프트 연산 00100을 한 비트 왼쪽으로 이동하여 010000으로 만든다."
   ]
  },
  {
   "cell_type": "code",
   "execution_count": 1,
   "metadata": {},
   "outputs": [
    {
     "name": "stdout",
     "output_type": "stream",
     "text": [
      "num =  100\n",
      "num =  200\n",
      "num =  300\n"
     ]
    }
   ],
   "source": [
    "num = 100 # 순차문\n",
    "print('num = ' , num)\n",
    "\n",
    "num = num + 100\n",
    "\n",
    "print('num = ', num)\n",
    "\n",
    "num = num + 100\n",
    "\n",
    "print('num = ', num)"
   ]
  },
  {
   "cell_type": "code",
   "execution_count": 5,
   "metadata": {},
   "outputs": [
    {
     "name": "stdout",
     "output_type": "stream",
     "text": [
      "성인입니다.\n"
     ]
    }
   ],
   "source": [
    "age = int(input(\"나이를 입력하세요 : \"))\n",
    "\n",
    "if age < 20:\n",
    "    print(\"청소년 할인\")\n",
    "else:\n",
    "    print(\"성인입니다.\")"
   ]
  },
  {
   "cell_type": "code",
   "execution_count": 7,
   "metadata": {},
   "outputs": [
    {
     "name": "stdout",
     "output_type": "stream",
     "text": [
      "목표 달성\n"
     ]
    }
   ],
   "source": [
    "walk = int(input(\"걸음을 입력하세요\"))\n",
    "\n",
    "if walk > 1000:\n",
    "    print(\"목표 달성\")\n",
    "else:\n",
    "    print(\"목표 미달\")"
   ]
  },
  {
   "cell_type": "code",
   "execution_count": 9,
   "metadata": {},
   "outputs": [
    {
     "name": "stdout",
     "output_type": "stream",
     "text": [
      "오후입니다.\n"
     ]
    }
   ],
   "source": [
    "time = int(input(\"시간을 입력하세요\"))\n",
    "\n",
    "if time >= 12:\n",
    "    print(\"오후입니다.\")\n",
    "else: \n",
    "    print(\"오전입니다.\")"
   ]
  },
  {
   "cell_type": "code",
   "execution_count": 11,
   "metadata": {},
   "outputs": [
    {
     "name": "stdout",
     "output_type": "stream",
     "text": [
      "당신은 하수입니다.\n"
     ]
    }
   ],
   "source": [
    "game_score = int(input(\"점수를 입력해주세요\"))\n",
    "\n",
    "if game_score >= 1000:\n",
    "    print(\"당신은 고수입니다.\")\n",
    "else: \n",
    "    print(\"당신은 하수입니다.\")"
   ]
  },
  {
   "cell_type": "code",
   "execution_count": 14,
   "metadata": {},
   "outputs": [
    {
     "name": "stdout",
     "output_type": "stream",
     "text": [
      "두 값이 일치합니다.\n"
     ]
    }
   ],
   "source": [
    "num_a,num_b = 300,300\n",
    "\n",
    "if num_a == num_b:\n",
    "    print(\"두 값이 일치합니다.\")\n",
    "else:\n",
    "    print(\"두 값이 일치하지 않습니다.\")\n"
   ]
  },
  {
   "cell_type": "code",
   "execution_count": 15,
   "metadata": {},
   "outputs": [
    {
     "name": "stdout",
     "output_type": "stream",
     "text": [
      "n =  50\n",
      "50  은(는) 짝수입니다.\n"
     ]
    }
   ],
   "source": [
    "n = int(input(\"정수를 입력하세요\"))\n",
    "\n",
    "print(\"n = \",n)\n",
    "\n",
    "if n / 2:\n",
    "    print(n , \" 은(는) 짝수입니다.\")\n",
    "else:\n",
    "    print(\"n = \",n)"
   ]
  },
  {
   "cell_type": "code",
   "execution_count": 16,
   "metadata": {},
   "outputs": [
    {
     "name": "stdout",
     "output_type": "stream",
     "text": [
      "2012 년은 윤년입니까? True\n"
     ]
    }
   ],
   "source": [
    "year = int(input(\"연도를 입력하세요\"))\n",
    "\n",
    "is_leap_year = ((year % 4 == 0 ) and (year % 100 != 0) or (year % 400 == 0))\n",
    "print(year,\"년은 윤년입니까?\", is_leap_year)"
   ]
  },
  {
   "cell_type": "code",
   "execution_count": 37,
   "metadata": {},
   "outputs": [
    {
     "name": "stdout",
     "output_type": "stream",
     "text": [
      "age = 10\n"
     ]
    }
   ],
   "source": [
    "num = int(input(\"숫자를 입력하세요\"))\n",
    "\n",
    "bool_num = ((num > 10) and (num < 19))\n",
    "\n",
    "print('age =', num)\n",
    "\n",
    "if bool_num == True:\n",
    "    print(\"청소년\")"
   ]
  },
  {
   "cell_type": "code",
   "execution_count": 39,
   "metadata": {},
   "outputs": [
    {
     "name": "stdout",
     "output_type": "stream",
     "text": [
      "2004 년은 윤년입니까? True\n"
     ]
    }
   ],
   "source": [
    "year = int(input(\"연도를 입력하세요\"))\n",
    "\n",
    "bool_year = ((year % 4 == 0) and (year % 100 != 0) or (year % 400 == 0))\n",
    "\n",
    "print(year, \"년은 윤년입니까?\", bool_year)"
   ]
  },
  {
   "cell_type": "code",
   "execution_count": 40,
   "metadata": {},
   "outputs": [
    {
     "name": "stdout",
     "output_type": "stream",
     "text": [
      "고속\n"
     ]
    }
   ],
   "source": [
    "speed = int(input(\"속도를 입력하세요\"))\n",
    "\n",
    "if speed >= 100:\n",
    "    print(\"고속\")\n",
    "else:\n",
    "    print(\"저속\")"
   ]
  },
  {
   "cell_type": "code",
   "execution_count": 68,
   "metadata": {},
   "outputs": [
    {
     "data": {
      "text/plain": [
       "[-99,\n",
       " -98,\n",
       " -97,\n",
       " -96,\n",
       " -95,\n",
       " -94,\n",
       " -93,\n",
       " -92,\n",
       " -91,\n",
       " -90,\n",
       " -89,\n",
       " -88,\n",
       " -87,\n",
       " -86,\n",
       " -85,\n",
       " -84,\n",
       " -83,\n",
       " -82,\n",
       " -81,\n",
       " -80,\n",
       " -79,\n",
       " -78,\n",
       " -77,\n",
       " -76,\n",
       " -75,\n",
       " -74,\n",
       " -73,\n",
       " -72,\n",
       " -71,\n",
       " -70,\n",
       " -69,\n",
       " -68,\n",
       " -67,\n",
       " -66,\n",
       " -65,\n",
       " -64,\n",
       " -63,\n",
       " -62,\n",
       " -61,\n",
       " -60,\n",
       " -59,\n",
       " -58,\n",
       " -57,\n",
       " -56,\n",
       " -55,\n",
       " -54,\n",
       " -53,\n",
       " -52,\n",
       " -51,\n",
       " -50,\n",
       " -49,\n",
       " -48,\n",
       " -47,\n",
       " -46,\n",
       " -45,\n",
       " -44,\n",
       " -43,\n",
       " -42,\n",
       " -41,\n",
       " -40,\n",
       " -39,\n",
       " -38,\n",
       " -37,\n",
       " -36,\n",
       " -35,\n",
       " -34,\n",
       " -33,\n",
       " -32,\n",
       " -31,\n",
       " -30,\n",
       " -29,\n",
       " -28,\n",
       " -27,\n",
       " -26,\n",
       " -25,\n",
       " -24,\n",
       " -23,\n",
       " -22,\n",
       " -21,\n",
       " -20,\n",
       " -19,\n",
       " -18,\n",
       " -17,\n",
       " -16,\n",
       " -15,\n",
       " -14,\n",
       " -13,\n",
       " -12,\n",
       " -11,\n",
       " -10,\n",
       " -9,\n",
       " -8,\n",
       " -7,\n",
       " -6,\n",
       " -5,\n",
       " -4,\n",
       " -3,\n",
       " -2,\n",
       " -1]"
      ]
     },
     "execution_count": 68,
     "metadata": {},
     "output_type": "execute_result"
    }
   ],
   "source": [
    "list(range(0,101))\n",
    "\n",
    "list(range(2,101,2))\n",
    "\n",
    "list(range(1,101,3))\n",
    "\n",
    "list(range(-99,0))"
   ]
  }
 ],
 "metadata": {
  "kernelspec": {
   "display_name": "Python 3",
   "language": "python",
   "name": "python3"
  },
  "language_info": {
   "codemirror_mode": {
    "name": "ipython",
    "version": 3
   },
   "file_extension": ".py",
   "mimetype": "text/x-python",
   "name": "python",
   "nbconvert_exporter": "python",
   "pygments_lexer": "ipython3",
   "version": "3.11.5"
  },
  "orig_nbformat": 4
 },
 "nbformat": 4,
 "nbformat_minor": 2
}
